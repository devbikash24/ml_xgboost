{
 "cells": [
  {
   "cell_type": "markdown",
   "id": "2fa0feb1",
   "metadata": {
    "papermill": {
     "duration": 0.027537,
     "end_time": "2022-10-17T13:50:14.118316",
     "exception": false,
     "start_time": "2022-10-17T13:50:14.090779",
     "status": "completed"
    },
    "tags": []
   },
   "source": [
    "# **Titanic - Machine Learning from Disaster**"
   ]
  },
  {
   "cell_type": "markdown",
   "id": "c02105a2",
   "metadata": {
    "papermill": {
     "duration": 0.024482,
     "end_time": "2022-10-17T13:50:14.167139",
     "exception": false,
     "start_time": "2022-10-17T13:50:14.142657",
     "status": "completed"
    },
    "tags": []
   },
   "source": [
    "## Contents:\n",
    "1. **X, y Dataframes Creation**\n",
    "    * Import libraries\n",
    "2. **X, y Summary**\n",
    "3. **Data Cleaning**\n",
    "    * Remove the columns with more than half missing values\n",
    "4. **Exploratory Data Analysis*\n",
    "5. **Data Visualization (Original Features)**\n",
    "    * Correlation between features and target on heatmap\n",
    "    * Sex vs Survived\n",
    "    * Age vs Survived\n",
    "    * Fare vs Survived\n",
    "6. **Feature Engineering**\n",
    "    * Create New Categorical Features\n",
    "        1. Name Prefix\n",
    "        2. Age Category\n",
    "        3. Fare Category\n",
    "        4. Family Size\n",
    "    * Data Visualization of Created Categories\n",
    "    * Imputing Age (using group means)\n",
    "7. **Feature Selection**\n",
    "8. **Model Creation**\n",
    "    * Preprocessing Pipelines\n",
    "    * Model Pipeline\n",
    "    * Visualize the pipeline\n",
    "9. **Training and Testing Model**\n",
    "    * Grid Search & Cross Validation\n",
    "    * Feature Importance\n",
    "    * Confusion Matrix\n",
    "    * Classification Report\n",
    "10. **Predicting y**"
   ]
  },
  {
   "cell_type": "markdown",
   "id": "e017eac8",
   "metadata": {
    "papermill": {
     "duration": 0.030152,
     "end_time": "2022-10-17T13:50:14.222106",
     "exception": false,
     "start_time": "2022-10-17T13:50:14.191954",
     "status": "completed"
    },
    "tags": []
   },
   "source": [
    "# 1) X, y Dataframes Creation"
   ]
  },
  {
   "cell_type": "markdown",
   "id": "e63a0356",
   "metadata": {
    "papermill": {
     "duration": 0.029003,
     "end_time": "2022-10-17T13:50:14.276458",
     "exception": false,
     "start_time": "2022-10-17T13:50:14.247455",
     "status": "completed"
    },
    "tags": []
   },
   "source": [
    "## Import Data Analytics libraries"
   ]
  },
  {
   "cell_type": "code",
   "execution_count": 53,
   "id": "78603a93",
   "metadata": {
    "execution": {
     "iopub.execute_input": "2022-10-17T13:50:14.325375Z",
     "iopub.status.busy": "2022-10-17T13:50:14.324194Z",
     "iopub.status.idle": "2022-10-17T13:50:15.614827Z",
     "shell.execute_reply": "2022-10-17T13:50:15.613873Z"
    },
    "papermill": {
     "duration": 1.317854,
     "end_time": "2022-10-17T13:50:15.618151",
     "exception": false,
     "start_time": "2022-10-17T13:50:14.300297",
     "status": "completed"
    },
    "tags": []
   },
   "outputs": [],
   "source": [
    "import numpy as np\n",
    "import pandas as pd\n",
    "import matplotlib.pyplot as plt\n",
    "import seaborn as sns\n",
    "from scipy import stats\n",
    "from math import ceil"
   ]
  },
  {
   "cell_type": "markdown",
   "id": "ecef8d1d",
   "metadata": {
    "papermill": {
     "duration": 0.023048,
     "end_time": "2022-10-17T13:50:15.665048",
     "exception": false,
     "start_time": "2022-10-17T13:50:15.642000",
     "status": "completed"
    },
    "tags": []
   },
   "source": [
    "## Import Machine Learning Libraries"
   ]
  },
  {
   "cell_type": "code",
   "execution_count": 54,
   "id": "27e9d3f1",
   "metadata": {
    "execution": {
     "iopub.execute_input": "2022-10-17T13:50:15.714688Z",
     "iopub.status.busy": "2022-10-17T13:50:15.714297Z",
     "iopub.status.idle": "2022-10-17T13:50:16.234201Z",
     "shell.execute_reply": "2022-10-17T13:50:16.233029Z"
    },
    "papermill": {
     "duration": 0.54746,
     "end_time": "2022-10-17T13:50:16.236930",
     "exception": false,
     "start_time": "2022-10-17T13:50:15.689470",
     "status": "completed"
    },
    "tags": []
   },
   "outputs": [],
   "source": [
    "from sklearn.pipeline import Pipeline\n",
    "\n",
    "# To perform operations on columns:\n",
    "from sklearn.compose import ColumnTransformer\n",
    "from sklearn.impute import SimpleImputer\n",
    "from sklearn.preprocessing import OneHotEncoder\n",
    "\n",
    "# ML algorithms:\n",
    "from xgboost import XGBClassifier\n",
    "\n",
    "# To evaluate performance model:\n",
    "from sklearn.model_selection import GridSearchCV, ParameterGrid\n",
    "from sklearn.metrics import confusion_matrix, classification_report\n",
    "from sklearn.metrics import accuracy_score, recall_score, precision_score, f1_score"
   ]
  },
  {
   "cell_type": "code",
   "execution_count": 55,
   "id": "7aa69c37",
   "metadata": {
    "execution": {
     "iopub.execute_input": "2022-10-17T13:50:16.293424Z",
     "iopub.status.busy": "2022-10-17T13:50:16.292393Z",
     "iopub.status.idle": "2022-10-17T13:50:16.339021Z",
     "shell.execute_reply": "2022-10-17T13:50:16.337943Z"
    },
    "papermill": {
     "duration": 0.077606,
     "end_time": "2022-10-17T13:50:16.341955",
     "exception": false,
     "start_time": "2022-10-17T13:50:16.264349",
     "status": "completed"
    },
    "tags": []
   },
   "outputs": [],
   "source": [
    "# Read the data\n",
    "X_y = pd.read_csv('./data/project2/train.csv', index_col='PassengerId')\n",
    "X_test = pd.read_csv('./data/project2/test.csv', index_col='PassengerId')\n",
    "\n",
    "# Remove rows with missing target\n",
    "X_y = X_y.dropna(subset=['Survived'], axis=0)\n",
    "\n",
    "#  Separate target y from predictors X\n",
    "X = X_y.copy()\n",
    "y = X.pop('Survived')"
   ]
  },
  {
   "cell_type": "markdown",
   "id": "a1632d2f",
   "metadata": {
    "papermill": {
     "duration": 0.022933,
     "end_time": "2022-10-17T13:50:16.389462",
     "exception": false,
     "start_time": "2022-10-17T13:50:16.366529",
     "status": "completed"
    },
    "tags": []
   },
   "source": [
    "# 2) X, y Summary"
   ]
  },
  {
   "cell_type": "code",
   "execution_count": 56,
   "id": "6424832c",
   "metadata": {
    "execution": {
     "iopub.execute_input": "2022-10-17T13:50:16.437146Z",
     "iopub.status.busy": "2022-10-17T13:50:16.436719Z",
     "iopub.status.idle": "2022-10-17T13:50:16.458678Z",
     "shell.execute_reply": "2022-10-17T13:50:16.457674Z"
    },
    "papermill": {
     "duration": 0.048984,
     "end_time": "2022-10-17T13:50:16.461191",
     "exception": false,
     "start_time": "2022-10-17T13:50:16.412207",
     "status": "completed"
    },
    "tags": []
   },
   "outputs": [
    {
     "data": {
      "text/html": [
       "<div>\n",
       "<style scoped>\n",
       "    .dataframe tbody tr th:only-of-type {\n",
       "        vertical-align: middle;\n",
       "    }\n",
       "\n",
       "    .dataframe tbody tr th {\n",
       "        vertical-align: top;\n",
       "    }\n",
       "\n",
       "    .dataframe thead th {\n",
       "        text-align: right;\n",
       "    }\n",
       "</style>\n",
       "<table border=\"1\" class=\"dataframe\">\n",
       "  <thead>\n",
       "    <tr style=\"text-align: right;\">\n",
       "      <th></th>\n",
       "      <th>Pclass</th>\n",
       "      <th>Name</th>\n",
       "      <th>Sex</th>\n",
       "      <th>Age</th>\n",
       "      <th>SibSp</th>\n",
       "      <th>Parch</th>\n",
       "      <th>Ticket</th>\n",
       "      <th>Fare</th>\n",
       "      <th>Cabin</th>\n",
       "      <th>Embarked</th>\n",
       "    </tr>\n",
       "    <tr>\n",
       "      <th>PassengerId</th>\n",
       "      <th></th>\n",
       "      <th></th>\n",
       "      <th></th>\n",
       "      <th></th>\n",
       "      <th></th>\n",
       "      <th></th>\n",
       "      <th></th>\n",
       "      <th></th>\n",
       "      <th></th>\n",
       "      <th></th>\n",
       "    </tr>\n",
       "  </thead>\n",
       "  <tbody>\n",
       "    <tr>\n",
       "      <th>1</th>\n",
       "      <td>3</td>\n",
       "      <td>Braund, Mr. Owen Harris</td>\n",
       "      <td>male</td>\n",
       "      <td>22.0</td>\n",
       "      <td>1</td>\n",
       "      <td>0</td>\n",
       "      <td>A/5 21171</td>\n",
       "      <td>7.2500</td>\n",
       "      <td>NaN</td>\n",
       "      <td>S</td>\n",
       "    </tr>\n",
       "    <tr>\n",
       "      <th>2</th>\n",
       "      <td>1</td>\n",
       "      <td>Cumings, Mrs. John Bradley (Florence Briggs Th...</td>\n",
       "      <td>female</td>\n",
       "      <td>38.0</td>\n",
       "      <td>1</td>\n",
       "      <td>0</td>\n",
       "      <td>PC 17599</td>\n",
       "      <td>71.2833</td>\n",
       "      <td>C85</td>\n",
       "      <td>C</td>\n",
       "    </tr>\n",
       "  </tbody>\n",
       "</table>\n",
       "</div>"
      ],
      "text/plain": [
       "             Pclass                                               Name  \\\n",
       "PassengerId                                                              \n",
       "1                 3                            Braund, Mr. Owen Harris   \n",
       "2                 1  Cumings, Mrs. John Bradley (Florence Briggs Th...   \n",
       "\n",
       "                Sex   Age  SibSp  Parch     Ticket     Fare Cabin Embarked  \n",
       "PassengerId                                                                 \n",
       "1              male  22.0      1      0  A/5 21171   7.2500   NaN        S  \n",
       "2            female  38.0      1      0   PC 17599  71.2833   C85        C  "
      ]
     },
     "execution_count": 56,
     "metadata": {},
     "output_type": "execute_result"
    }
   ],
   "source": [
    "X.head(2)"
   ]
  },
  {
   "cell_type": "code",
   "execution_count": 57,
   "id": "26739e5b",
   "metadata": {
    "execution": {
     "iopub.execute_input": "2022-10-17T13:50:16.510445Z",
     "iopub.status.busy": "2022-10-17T13:50:16.510039Z",
     "iopub.status.idle": "2022-10-17T13:50:16.518621Z",
     "shell.execute_reply": "2022-10-17T13:50:16.517205Z"
    },
    "papermill": {
     "duration": 0.036335,
     "end_time": "2022-10-17T13:50:16.521433",
     "exception": false,
     "start_time": "2022-10-17T13:50:16.485098",
     "status": "completed"
    },
    "tags": []
   },
   "outputs": [],
   "source": [
    "# Creating function so that we can reuse it afterwords\n",
    "def show_info(X,X_test):\n",
    "    DataTypes = pd.DataFrame(X.dtypes.value_counts(),columns=['X'])\n",
    "    DataTypes['X_test'] = X.dtypes.value_counts().values\n",
    "    print(\"Number of Columns with different Data Types:\\n\")\n",
    "    print(DataTypes,'\\n')\n",
    "    \n",
    "    info = pd.DataFrame(X.dtypes, columns=['Dtype'])\n",
    "    info['Unique_X'] = X.nunique().values\n",
    "    info['Unique_X_test'] = X_test.nunique().values\n",
    "    info['Null_X'] = X.isnull().sum().values\n",
    "    info['Null_X_test'] = X_test.isnull().sum().values\n",
    "    return info"
   ]
  },
  {
   "cell_type": "code",
   "execution_count": 58,
   "id": "6846b06d",
   "metadata": {
    "execution": {
     "iopub.execute_input": "2022-10-17T13:50:16.569872Z",
     "iopub.status.busy": "2022-10-17T13:50:16.569448Z",
     "iopub.status.idle": "2022-10-17T13:50:16.602637Z",
     "shell.execute_reply": "2022-10-17T13:50:16.601460Z"
    },
    "papermill": {
     "duration": 0.060321,
     "end_time": "2022-10-17T13:50:16.605126",
     "exception": false,
     "start_time": "2022-10-17T13:50:16.544805",
     "status": "completed"
    },
    "tags": []
   },
   "outputs": [
    {
     "name": "stdout",
     "output_type": "stream",
     "text": [
      "Number of Columns with different Data Types:\n",
      "\n",
      "     X  X_test\n",
      "0  NaN       5\n",
      "1  NaN       3\n",
      "2  NaN       2 \n",
      "\n"
     ]
    },
    {
     "data": {
      "text/html": [
       "<div>\n",
       "<style scoped>\n",
       "    .dataframe tbody tr th:only-of-type {\n",
       "        vertical-align: middle;\n",
       "    }\n",
       "\n",
       "    .dataframe tbody tr th {\n",
       "        vertical-align: top;\n",
       "    }\n",
       "\n",
       "    .dataframe thead th {\n",
       "        text-align: right;\n",
       "    }\n",
       "</style>\n",
       "<table border=\"1\" class=\"dataframe\">\n",
       "  <thead>\n",
       "    <tr style=\"text-align: right;\">\n",
       "      <th></th>\n",
       "      <th>Dtype</th>\n",
       "      <th>Unique_X</th>\n",
       "      <th>Unique_X_test</th>\n",
       "      <th>Null_X</th>\n",
       "      <th>Null_X_test</th>\n",
       "    </tr>\n",
       "  </thead>\n",
       "  <tbody>\n",
       "    <tr>\n",
       "      <th>Pclass</th>\n",
       "      <td>int64</td>\n",
       "      <td>3</td>\n",
       "      <td>3</td>\n",
       "      <td>0</td>\n",
       "      <td>0</td>\n",
       "    </tr>\n",
       "    <tr>\n",
       "      <th>Name</th>\n",
       "      <td>object</td>\n",
       "      <td>891</td>\n",
       "      <td>418</td>\n",
       "      <td>0</td>\n",
       "      <td>0</td>\n",
       "    </tr>\n",
       "    <tr>\n",
       "      <th>Sex</th>\n",
       "      <td>object</td>\n",
       "      <td>2</td>\n",
       "      <td>2</td>\n",
       "      <td>0</td>\n",
       "      <td>0</td>\n",
       "    </tr>\n",
       "    <tr>\n",
       "      <th>Age</th>\n",
       "      <td>float64</td>\n",
       "      <td>88</td>\n",
       "      <td>79</td>\n",
       "      <td>177</td>\n",
       "      <td>86</td>\n",
       "    </tr>\n",
       "    <tr>\n",
       "      <th>SibSp</th>\n",
       "      <td>int64</td>\n",
       "      <td>7</td>\n",
       "      <td>7</td>\n",
       "      <td>0</td>\n",
       "      <td>0</td>\n",
       "    </tr>\n",
       "    <tr>\n",
       "      <th>Parch</th>\n",
       "      <td>int64</td>\n",
       "      <td>7</td>\n",
       "      <td>8</td>\n",
       "      <td>0</td>\n",
       "      <td>0</td>\n",
       "    </tr>\n",
       "    <tr>\n",
       "      <th>Ticket</th>\n",
       "      <td>object</td>\n",
       "      <td>681</td>\n",
       "      <td>363</td>\n",
       "      <td>0</td>\n",
       "      <td>0</td>\n",
       "    </tr>\n",
       "    <tr>\n",
       "      <th>Fare</th>\n",
       "      <td>float64</td>\n",
       "      <td>248</td>\n",
       "      <td>169</td>\n",
       "      <td>0</td>\n",
       "      <td>1</td>\n",
       "    </tr>\n",
       "    <tr>\n",
       "      <th>Cabin</th>\n",
       "      <td>object</td>\n",
       "      <td>147</td>\n",
       "      <td>76</td>\n",
       "      <td>687</td>\n",
       "      <td>327</td>\n",
       "    </tr>\n",
       "    <tr>\n",
       "      <th>Embarked</th>\n",
       "      <td>object</td>\n",
       "      <td>3</td>\n",
       "      <td>3</td>\n",
       "      <td>2</td>\n",
       "      <td>0</td>\n",
       "    </tr>\n",
       "  </tbody>\n",
       "</table>\n",
       "</div>"
      ],
      "text/plain": [
       "            Dtype  Unique_X  Unique_X_test  Null_X  Null_X_test\n",
       "Pclass      int64         3              3       0            0\n",
       "Name       object       891            418       0            0\n",
       "Sex        object         2              2       0            0\n",
       "Age       float64        88             79     177           86\n",
       "SibSp       int64         7              7       0            0\n",
       "Parch       int64         7              8       0            0\n",
       "Ticket     object       681            363       0            0\n",
       "Fare      float64       248            169       0            1\n",
       "Cabin      object       147             76     687          327\n",
       "Embarked   object         3              3       2            0"
      ]
     },
     "execution_count": 58,
     "metadata": {},
     "output_type": "execute_result"
    }
   ],
   "source": [
    "show_info(X,X_test)"
   ]
  },
  {
   "cell_type": "code",
   "execution_count": 59,
   "id": "3918abcb",
   "metadata": {
    "execution": {
     "iopub.execute_input": "2022-10-17T13:50:16.653847Z",
     "iopub.status.busy": "2022-10-17T13:50:16.653438Z",
     "iopub.status.idle": "2022-10-17T13:50:16.661675Z",
     "shell.execute_reply": "2022-10-17T13:50:16.660421Z"
    },
    "papermill": {
     "duration": 0.035894,
     "end_time": "2022-10-17T13:50:16.664178",
     "exception": false,
     "start_time": "2022-10-17T13:50:16.628284",
     "status": "completed"
    },
    "tags": []
   },
   "outputs": [
    {
     "data": {
      "text/plain": [
       "PassengerId\n",
       "1    0\n",
       "2    1\n",
       "Name: Survived, dtype: int64"
      ]
     },
     "execution_count": 59,
     "metadata": {},
     "output_type": "execute_result"
    }
   ],
   "source": [
    "y.head(2)"
   ]
  },
  {
   "cell_type": "code",
   "execution_count": 60,
   "id": "8296d6bc",
   "metadata": {
    "_kg_hide-input": true,
    "_kg_hide-output": true,
    "execution": {
     "iopub.execute_input": "2022-10-17T13:50:16.714300Z",
     "iopub.status.busy": "2022-10-17T13:50:16.713903Z",
     "iopub.status.idle": "2022-10-17T13:50:16.726240Z",
     "shell.execute_reply": "2022-10-17T13:50:16.725166Z"
    },
    "papermill": {
     "duration": 0.039471,
     "end_time": "2022-10-17T13:50:16.728622",
     "exception": false,
     "start_time": "2022-10-17T13:50:16.689151",
     "status": "completed"
    },
    "tags": []
   },
   "outputs": [
    {
     "data": {
      "text/plain": [
       "count    891.000000\n",
       "mean       0.383838\n",
       "std        0.486592\n",
       "min        0.000000\n",
       "25%        0.000000\n",
       "50%        0.000000\n",
       "75%        1.000000\n",
       "max        1.000000\n",
       "Name: Survived, dtype: float64"
      ]
     },
     "execution_count": 60,
     "metadata": {},
     "output_type": "execute_result"
    }
   ],
   "source": [
    "y.describe()"
   ]
  },
  {
   "cell_type": "markdown",
   "id": "6dee8c04",
   "metadata": {
    "papermill": {
     "duration": 0.023667,
     "end_time": "2022-10-17T13:50:16.776168",
     "exception": false,
     "start_time": "2022-10-17T13:50:16.752501",
     "status": "completed"
    },
    "tags": []
   },
   "source": [
    "# 3) Data Cleaning"
   ]
  },
  {
   "cell_type": "markdown",
   "id": "86e1b32f",
   "metadata": {
    "papermill": {
     "duration": 0.023533,
     "end_time": "2022-10-17T13:50:16.823982",
     "exception": false,
     "start_time": "2022-10-17T13:50:16.800449",
     "status": "completed"
    },
    "tags": []
   },
   "source": [
    "## Remove the columns with more than half missing values"
   ]
  },
  {
   "cell_type": "code",
   "execution_count": 61,
   "id": "e95c3eb7",
   "metadata": {
    "execution": {
     "iopub.execute_input": "2022-10-17T13:50:16.874438Z",
     "iopub.status.busy": "2022-10-17T13:50:16.874053Z",
     "iopub.status.idle": "2022-10-17T13:50:16.881417Z",
     "shell.execute_reply": "2022-10-17T13:50:16.880076Z"
    },
    "papermill": {
     "duration": 0.035852,
     "end_time": "2022-10-17T13:50:16.883782",
     "exception": false,
     "start_time": "2022-10-17T13:50:16.847930",
     "status": "completed"
    },
    "tags": []
   },
   "outputs": [],
   "source": [
    "# Making function so that we can reuse it in later stages as well\n",
    "def show_null_values(X, X_test):\n",
    "    \n",
    "    # Making DataFrame for combining training and testing missing values\n",
    "    null_values = pd.DataFrame(X.isnull().sum(), columns=['Train Data'])\n",
    "    null_values['Test Data'] = X_test.isnull().sum().values\n",
    "\n",
    "    # Showing only columns having missing values and sorting them\n",
    "    null_values = null_values.loc[(null_values['Train Data']!=0) | (null_values['Test Data']!=0)]\n",
    "    null_values = null_values.sort_values(by=['Train Data','Test Data'],ascending=False)\n",
    "    \n",
    "    print(\"Total missing values:\\n\",null_values.sum(),'\\n',sep='')\n",
    "    \n",
    "    return null_values"
   ]
  },
  {
   "cell_type": "code",
   "execution_count": 62,
   "id": "1ab90cf8",
   "metadata": {
    "execution": {
     "iopub.execute_input": "2022-10-17T13:50:16.933357Z",
     "iopub.status.busy": "2022-10-17T13:50:16.932973Z",
     "iopub.status.idle": "2022-10-17T13:50:16.953976Z",
     "shell.execute_reply": "2022-10-17T13:50:16.952881Z"
    },
    "papermill": {
     "duration": 0.048234,
     "end_time": "2022-10-17T13:50:16.956154",
     "exception": false,
     "start_time": "2022-10-17T13:50:16.907920",
     "status": "completed"
    },
    "tags": []
   },
   "outputs": [
    {
     "name": "stdout",
     "output_type": "stream",
     "text": [
      "Total missing values:\n",
      "Train Data    866\n",
      "Test Data     414\n",
      "dtype: int64\n",
      "\n"
     ]
    },
    {
     "data": {
      "text/html": [
       "<div>\n",
       "<style scoped>\n",
       "    .dataframe tbody tr th:only-of-type {\n",
       "        vertical-align: middle;\n",
       "    }\n",
       "\n",
       "    .dataframe tbody tr th {\n",
       "        vertical-align: top;\n",
       "    }\n",
       "\n",
       "    .dataframe thead th {\n",
       "        text-align: right;\n",
       "    }\n",
       "</style>\n",
       "<table border=\"1\" class=\"dataframe\">\n",
       "  <thead>\n",
       "    <tr style=\"text-align: right;\">\n",
       "      <th></th>\n",
       "      <th>Train Data</th>\n",
       "      <th>Test Data</th>\n",
       "    </tr>\n",
       "  </thead>\n",
       "  <tbody>\n",
       "    <tr>\n",
       "      <th>Cabin</th>\n",
       "      <td>687</td>\n",
       "      <td>327</td>\n",
       "    </tr>\n",
       "    <tr>\n",
       "      <th>Age</th>\n",
       "      <td>177</td>\n",
       "      <td>86</td>\n",
       "    </tr>\n",
       "    <tr>\n",
       "      <th>Embarked</th>\n",
       "      <td>2</td>\n",
       "      <td>0</td>\n",
       "    </tr>\n",
       "    <tr>\n",
       "      <th>Fare</th>\n",
       "      <td>0</td>\n",
       "      <td>1</td>\n",
       "    </tr>\n",
       "  </tbody>\n",
       "</table>\n",
       "</div>"
      ],
      "text/plain": [
       "          Train Data  Test Data\n",
       "Cabin            687        327\n",
       "Age              177         86\n",
       "Embarked           2          0\n",
       "Fare               0          1"
      ]
     },
     "execution_count": 62,
     "metadata": {},
     "output_type": "execute_result"
    }
   ],
   "source": [
    "show_null_values(X, X_test)"
   ]
  },
  {
   "cell_type": "code",
   "execution_count": 63,
   "id": "fe3a53a6",
   "metadata": {
    "execution": {
     "iopub.execute_input": "2022-10-17T13:50:17.005829Z",
     "iopub.status.busy": "2022-10-17T13:50:17.005372Z",
     "iopub.status.idle": "2022-10-17T13:50:17.018447Z",
     "shell.execute_reply": "2022-10-17T13:50:17.016977Z"
    },
    "papermill": {
     "duration": 0.04091,
     "end_time": "2022-10-17T13:50:17.020934",
     "exception": false,
     "start_time": "2022-10-17T13:50:16.980024",
     "status": "completed"
    },
    "tags": []
   },
   "outputs": [
    {
     "data": {
      "text/plain": [
       "['Cabin']"
      ]
     },
     "execution_count": 63,
     "metadata": {},
     "output_type": "execute_result"
    }
   ],
   "source": [
    "# Show columns with more than half values missing\n",
    "null_columns = [col for col in X.columns if X[col].isnull().sum() > X.shape[0]/2]\n",
    "null_columns"
   ]
  },
  {
   "cell_type": "code",
   "execution_count": 64,
   "id": "5254219c",
   "metadata": {
    "execution": {
     "iopub.execute_input": "2022-10-17T13:50:17.070662Z",
     "iopub.status.busy": "2022-10-17T13:50:17.070225Z",
     "iopub.status.idle": "2022-10-17T13:50:17.078737Z",
     "shell.execute_reply": "2022-10-17T13:50:17.077838Z"
    },
    "papermill": {
     "duration": 0.036194,
     "end_time": "2022-10-17T13:50:17.081104",
     "exception": false,
     "start_time": "2022-10-17T13:50:17.044910",
     "status": "completed"
    },
    "tags": []
   },
   "outputs": [],
   "source": [
    "# Drop the above mentioned columns\n",
    "X = X.drop(null_columns, axis=1)\n",
    "X_test = X_test.drop(null_columns, axis=1)"
   ]
  },
  {
   "cell_type": "markdown",
   "id": "339d099f",
   "metadata": {
    "papermill": {
     "duration": 0.024059,
     "end_time": "2022-10-17T13:50:17.129102",
     "exception": false,
     "start_time": "2022-10-17T13:50:17.105043",
     "status": "completed"
    },
    "tags": []
   },
   "source": [
    "# 4) Exploratory Data Analysis"
   ]
  },
  {
   "cell_type": "markdown",
   "id": "be9fcd8d",
   "metadata": {
    "papermill": {
     "duration": 0.024198,
     "end_time": "2022-10-17T13:50:17.178138",
     "exception": false,
     "start_time": "2022-10-17T13:50:17.153940",
     "status": "completed"
    },
    "tags": []
   },
   "source": [
    "### Correlation with target"
   ]
  },
  {
   "cell_type": "code",
   "execution_count": 65,
   "id": "6faf7aa8",
   "metadata": {
    "execution": {
     "iopub.execute_input": "2022-10-17T13:50:17.228468Z",
     "iopub.status.busy": "2022-10-17T13:50:17.228059Z",
     "iopub.status.idle": "2022-10-17T13:50:17.244679Z",
     "shell.execute_reply": "2022-10-17T13:50:17.243413Z"
    },
    "papermill": {
     "duration": 0.04419,
     "end_time": "2022-10-17T13:50:17.247245",
     "exception": false,
     "start_time": "2022-10-17T13:50:17.203055",
     "status": "completed"
    },
    "tags": []
   },
   "outputs": [],
   "source": [
    "Xy = X.join(y)\n"
   ]
  },
  {
   "cell_type": "markdown",
   "id": "900a9b53",
   "metadata": {
    "papermill": {
     "duration": 0.0241,
     "end_time": "2022-10-17T13:50:17.295280",
     "exception": false,
     "start_time": "2022-10-17T13:50:17.271180",
     "status": "completed"
    },
    "tags": []
   },
   "source": [
    "### Combination of Sex, Pclass and Embarked"
   ]
  },
  {
   "cell_type": "code",
   "execution_count": 66,
   "id": "3adb66c7",
   "metadata": {
    "execution": {
     "iopub.execute_input": "2022-10-17T13:50:17.346417Z",
     "iopub.status.busy": "2022-10-17T13:50:17.345540Z",
     "iopub.status.idle": "2022-10-17T13:50:17.367232Z",
     "shell.execute_reply": "2022-10-17T13:50:17.366054Z"
    },
    "papermill": {
     "duration": 0.050336,
     "end_time": "2022-10-17T13:50:17.369670",
     "exception": false,
     "start_time": "2022-10-17T13:50:17.319334",
     "status": "completed"
    },
    "tags": []
   },
   "outputs": [
    {
     "data": {
      "text/html": [
       "<div>\n",
       "<style scoped>\n",
       "    .dataframe tbody tr th:only-of-type {\n",
       "        vertical-align: middle;\n",
       "    }\n",
       "\n",
       "    .dataframe tbody tr th {\n",
       "        vertical-align: top;\n",
       "    }\n",
       "\n",
       "    .dataframe thead th {\n",
       "        text-align: right;\n",
       "    }\n",
       "</style>\n",
       "<table border=\"1\" class=\"dataframe\">\n",
       "  <thead>\n",
       "    <tr style=\"text-align: right;\">\n",
       "      <th></th>\n",
       "      <th></th>\n",
       "      <th>sum</th>\n",
       "      <th>count</th>\n",
       "      <th>survival rate</th>\n",
       "    </tr>\n",
       "    <tr>\n",
       "      <th>Sex</th>\n",
       "      <th>Pclass</th>\n",
       "      <th></th>\n",
       "      <th></th>\n",
       "      <th></th>\n",
       "    </tr>\n",
       "  </thead>\n",
       "  <tbody>\n",
       "    <tr>\n",
       "      <th rowspan=\"3\" valign=\"top\">female</th>\n",
       "      <th>1</th>\n",
       "      <td>91</td>\n",
       "      <td>94</td>\n",
       "      <td>0.97</td>\n",
       "    </tr>\n",
       "    <tr>\n",
       "      <th>2</th>\n",
       "      <td>70</td>\n",
       "      <td>76</td>\n",
       "      <td>0.92</td>\n",
       "    </tr>\n",
       "    <tr>\n",
       "      <th>3</th>\n",
       "      <td>72</td>\n",
       "      <td>144</td>\n",
       "      <td>0.50</td>\n",
       "    </tr>\n",
       "    <tr>\n",
       "      <th rowspan=\"3\" valign=\"top\">male</th>\n",
       "      <th>1</th>\n",
       "      <td>45</td>\n",
       "      <td>122</td>\n",
       "      <td>0.37</td>\n",
       "    </tr>\n",
       "    <tr>\n",
       "      <th>2</th>\n",
       "      <td>17</td>\n",
       "      <td>108</td>\n",
       "      <td>0.16</td>\n",
       "    </tr>\n",
       "    <tr>\n",
       "      <th>3</th>\n",
       "      <td>47</td>\n",
       "      <td>347</td>\n",
       "      <td>0.14</td>\n",
       "    </tr>\n",
       "  </tbody>\n",
       "</table>\n",
       "</div>"
      ],
      "text/plain": [
       "               sum  count  survival rate\n",
       "Sex    Pclass                           \n",
       "female 1        91     94           0.97\n",
       "       2        70     76           0.92\n",
       "       3        72    144           0.50\n",
       "male   1        45    122           0.37\n",
       "       2        17    108           0.16\n",
       "       3        47    347           0.14"
      ]
     },
     "execution_count": 66,
     "metadata": {},
     "output_type": "execute_result"
    }
   ],
   "source": [
    "df1 = Xy.groupby(['Sex','Pclass']).Survived.agg(['sum','count'])\n",
    "df1['survival rate'] = round(df1['sum']/df1['count'],2)\n",
    "df1"
   ]
  },
  {
   "cell_type": "markdown",
   "id": "c4b451cf",
   "metadata": {
    "papermill": {
     "duration": 0.023747,
     "end_time": "2022-10-17T13:50:17.418132",
     "exception": false,
     "start_time": "2022-10-17T13:50:17.394385",
     "status": "completed"
    },
    "tags": []
   },
   "source": [
    "**Insights:**\n",
    "* Most of the females in 1st and 2nd class survived.\n",
    "* Most of the males in 2nd and 3rd class didn't survive."
   ]
  },
  {
   "cell_type": "code",
   "execution_count": 67,
   "id": "38b3e576",
   "metadata": {
    "execution": {
     "iopub.execute_input": "2022-10-17T13:50:17.469018Z",
     "iopub.status.busy": "2022-10-17T13:50:17.468575Z",
     "iopub.status.idle": "2022-10-17T13:50:17.486829Z",
     "shell.execute_reply": "2022-10-17T13:50:17.485672Z"
    },
    "papermill": {
     "duration": 0.046526,
     "end_time": "2022-10-17T13:50:17.489207",
     "exception": false,
     "start_time": "2022-10-17T13:50:17.442681",
     "status": "completed"
    },
    "tags": []
   },
   "outputs": [
    {
     "data": {
      "text/html": [
       "<div>\n",
       "<style scoped>\n",
       "    .dataframe tbody tr th:only-of-type {\n",
       "        vertical-align: middle;\n",
       "    }\n",
       "\n",
       "    .dataframe tbody tr th {\n",
       "        vertical-align: top;\n",
       "    }\n",
       "\n",
       "    .dataframe thead th {\n",
       "        text-align: right;\n",
       "    }\n",
       "</style>\n",
       "<table border=\"1\" class=\"dataframe\">\n",
       "  <thead>\n",
       "    <tr style=\"text-align: right;\">\n",
       "      <th></th>\n",
       "      <th></th>\n",
       "      <th>sum</th>\n",
       "      <th>count</th>\n",
       "      <th>survival rate</th>\n",
       "    </tr>\n",
       "    <tr>\n",
       "      <th>Embarked</th>\n",
       "      <th>Pclass</th>\n",
       "      <th></th>\n",
       "      <th></th>\n",
       "      <th></th>\n",
       "    </tr>\n",
       "  </thead>\n",
       "  <tbody>\n",
       "    <tr>\n",
       "      <th rowspan=\"3\" valign=\"top\">C</th>\n",
       "      <th>1</th>\n",
       "      <td>59</td>\n",
       "      <td>85</td>\n",
       "      <td>0.69</td>\n",
       "    </tr>\n",
       "    <tr>\n",
       "      <th>2</th>\n",
       "      <td>9</td>\n",
       "      <td>17</td>\n",
       "      <td>0.53</td>\n",
       "    </tr>\n",
       "    <tr>\n",
       "      <th>3</th>\n",
       "      <td>25</td>\n",
       "      <td>66</td>\n",
       "      <td>0.38</td>\n",
       "    </tr>\n",
       "    <tr>\n",
       "      <th rowspan=\"3\" valign=\"top\">Q</th>\n",
       "      <th>1</th>\n",
       "      <td>1</td>\n",
       "      <td>2</td>\n",
       "      <td>0.50</td>\n",
       "    </tr>\n",
       "    <tr>\n",
       "      <th>2</th>\n",
       "      <td>2</td>\n",
       "      <td>3</td>\n",
       "      <td>0.67</td>\n",
       "    </tr>\n",
       "    <tr>\n",
       "      <th>3</th>\n",
       "      <td>27</td>\n",
       "      <td>72</td>\n",
       "      <td>0.38</td>\n",
       "    </tr>\n",
       "    <tr>\n",
       "      <th rowspan=\"3\" valign=\"top\">S</th>\n",
       "      <th>1</th>\n",
       "      <td>74</td>\n",
       "      <td>127</td>\n",
       "      <td>0.58</td>\n",
       "    </tr>\n",
       "    <tr>\n",
       "      <th>2</th>\n",
       "      <td>76</td>\n",
       "      <td>164</td>\n",
       "      <td>0.46</td>\n",
       "    </tr>\n",
       "    <tr>\n",
       "      <th>3</th>\n",
       "      <td>67</td>\n",
       "      <td>353</td>\n",
       "      <td>0.19</td>\n",
       "    </tr>\n",
       "  </tbody>\n",
       "</table>\n",
       "</div>"
      ],
      "text/plain": [
       "                 sum  count  survival rate\n",
       "Embarked Pclass                           \n",
       "C        1        59     85           0.69\n",
       "         2         9     17           0.53\n",
       "         3        25     66           0.38\n",
       "Q        1         1      2           0.50\n",
       "         2         2      3           0.67\n",
       "         3        27     72           0.38\n",
       "S        1        74    127           0.58\n",
       "         2        76    164           0.46\n",
       "         3        67    353           0.19"
      ]
     },
     "execution_count": 67,
     "metadata": {},
     "output_type": "execute_result"
    }
   ],
   "source": [
    "df2 = Xy.groupby(['Embarked','Pclass']).Survived.agg(['sum','count'])\n",
    "df2['survival rate'] = round(df2['sum']/df2['count'],2)\n",
    "df2"
   ]
  },
  {
   "cell_type": "markdown",
   "id": "0d3809a4",
   "metadata": {
    "papermill": {
     "duration": 0.023889,
     "end_time": "2022-10-17T13:50:17.537780",
     "exception": false,
     "start_time": "2022-10-17T13:50:17.513891",
     "status": "completed"
    },
    "tags": []
   },
   "source": [
    "**Insights:**\n",
    "* Highest survival rate - 1st Pclass passenger Embarked at C\n",
    "* Lowest survival rate - 3rd Pclass passenger Embarked at S"
   ]
  },
  {
   "cell_type": "code",
   "execution_count": 68,
   "id": "e24fbfbd",
   "metadata": {
    "execution": {
     "iopub.execute_input": "2022-10-17T13:50:17.588240Z",
     "iopub.status.busy": "2022-10-17T13:50:17.587855Z",
     "iopub.status.idle": "2022-10-17T13:50:17.603735Z",
     "shell.execute_reply": "2022-10-17T13:50:17.602565Z"
    },
    "papermill": {
     "duration": 0.044229,
     "end_time": "2022-10-17T13:50:17.606224",
     "exception": false,
     "start_time": "2022-10-17T13:50:17.561995",
     "status": "completed"
    },
    "tags": []
   },
   "outputs": [
    {
     "data": {
      "text/html": [
       "<div>\n",
       "<style scoped>\n",
       "    .dataframe tbody tr th:only-of-type {\n",
       "        vertical-align: middle;\n",
       "    }\n",
       "\n",
       "    .dataframe tbody tr th {\n",
       "        vertical-align: top;\n",
       "    }\n",
       "\n",
       "    .dataframe thead th {\n",
       "        text-align: right;\n",
       "    }\n",
       "</style>\n",
       "<table border=\"1\" class=\"dataframe\">\n",
       "  <thead>\n",
       "    <tr style=\"text-align: right;\">\n",
       "      <th></th>\n",
       "      <th></th>\n",
       "      <th>sum</th>\n",
       "      <th>count</th>\n",
       "      <th>survival rate</th>\n",
       "    </tr>\n",
       "    <tr>\n",
       "      <th>Embarked</th>\n",
       "      <th>Sex</th>\n",
       "      <th></th>\n",
       "      <th></th>\n",
       "      <th></th>\n",
       "    </tr>\n",
       "  </thead>\n",
       "  <tbody>\n",
       "    <tr>\n",
       "      <th rowspan=\"2\" valign=\"top\">C</th>\n",
       "      <th>female</th>\n",
       "      <td>64</td>\n",
       "      <td>73</td>\n",
       "      <td>0.88</td>\n",
       "    </tr>\n",
       "    <tr>\n",
       "      <th>male</th>\n",
       "      <td>29</td>\n",
       "      <td>95</td>\n",
       "      <td>0.31</td>\n",
       "    </tr>\n",
       "    <tr>\n",
       "      <th rowspan=\"2\" valign=\"top\">Q</th>\n",
       "      <th>female</th>\n",
       "      <td>27</td>\n",
       "      <td>36</td>\n",
       "      <td>0.75</td>\n",
       "    </tr>\n",
       "    <tr>\n",
       "      <th>male</th>\n",
       "      <td>3</td>\n",
       "      <td>41</td>\n",
       "      <td>0.07</td>\n",
       "    </tr>\n",
       "    <tr>\n",
       "      <th rowspan=\"2\" valign=\"top\">S</th>\n",
       "      <th>female</th>\n",
       "      <td>140</td>\n",
       "      <td>203</td>\n",
       "      <td>0.69</td>\n",
       "    </tr>\n",
       "    <tr>\n",
       "      <th>male</th>\n",
       "      <td>77</td>\n",
       "      <td>441</td>\n",
       "      <td>0.17</td>\n",
       "    </tr>\n",
       "  </tbody>\n",
       "</table>\n",
       "</div>"
      ],
      "text/plain": [
       "                 sum  count  survival rate\n",
       "Embarked Sex                              \n",
       "C        female   64     73           0.88\n",
       "         male     29     95           0.31\n",
       "Q        female   27     36           0.75\n",
       "         male      3     41           0.07\n",
       "S        female  140    203           0.69\n",
       "         male     77    441           0.17"
      ]
     },
     "execution_count": 68,
     "metadata": {},
     "output_type": "execute_result"
    }
   ],
   "source": [
    "df3 = Xy.groupby(['Embarked','Sex']).Survived.agg(['sum','count'])\n",
    "df3['survival rate'] = round(df3['sum']/df3['count'],2)\n",
    "df3"
   ]
  },
  {
   "cell_type": "markdown",
   "id": "854c812b",
   "metadata": {
    "papermill": {
     "duration": 0.024047,
     "end_time": "2022-10-17T13:50:17.654973",
     "exception": false,
     "start_time": "2022-10-17T13:50:17.630926",
     "status": "completed"
    },
    "tags": []
   },
   "source": [
    "**Insights:**\n",
    "* Highest survival rate - female passenger Embarked at C\n",
    "* Lowest survival rate - male passenger Embarked at Q"
   ]
  },
  {
   "cell_type": "markdown",
   "id": "0935b05f",
   "metadata": {
    "papermill": {
     "duration": 0.025554,
     "end_time": "2022-10-17T13:50:17.705413",
     "exception": false,
     "start_time": "2022-10-17T13:50:17.679859",
     "status": "completed"
    },
    "tags": []
   },
   "source": [
    "# 5) Data Visualization"
   ]
  },
  {
   "cell_type": "markdown",
   "id": "574e2e49",
   "metadata": {
    "papermill": {
     "duration": 0.02407,
     "end_time": "2022-10-17T13:50:17.754125",
     "exception": false,
     "start_time": "2022-10-17T13:50:17.730055",
     "status": "completed"
    },
    "tags": []
   },
   "source": [
    "## Correlation between features and target on heatmap"
   ]
  },
  {
   "cell_type": "code",
   "execution_count": null,
   "id": "5b7cd6cc",
   "metadata": {
    "execution": {
     "iopub.execute_input": "2022-10-17T13:50:17.805300Z",
     "iopub.status.busy": "2022-10-17T13:50:17.804590Z",
     "iopub.status.idle": "2022-10-17T13:50:18.058234Z",
     "shell.execute_reply": "2022-10-17T13:50:18.056913Z"
    },
    "papermill": {
     "duration": 0.282372,
     "end_time": "2022-10-17T13:50:18.060806",
     "exception": false,
     "start_time": "2022-10-17T13:50:17.778434",
     "status": "completed"
    },
    "tags": []
   },
   "outputs": [],
   "source": []
  },
  {
   "cell_type": "markdown",
   "id": "be17fe7c",
   "metadata": {
    "papermill": {
     "duration": 0.025251,
     "end_time": "2022-10-17T13:50:18.111876",
     "exception": false,
     "start_time": "2022-10-17T13:50:18.086625",
     "status": "completed"
    },
    "tags": []
   },
   "source": [
    "### Insights from above correlation heatmap:\n",
    "1. Survival is more linearly related to Pclass and Fare.\n",
    "2. Pclass and Fare are negatively linear correlated. (as 1st class has more fare and 3rd class has less fare)\n",
    "3. Parch and SibSp have more correlation. (So people which have Parents and Children with them are more likely to have with their Siblings and Spouse.)"
   ]
  },
  {
   "cell_type": "markdown",
   "id": "0a36ead8",
   "metadata": {
    "papermill": {
     "duration": 0.024761,
     "end_time": "2022-10-17T13:50:18.162207",
     "exception": false,
     "start_time": "2022-10-17T13:50:18.137446",
     "status": "completed"
    },
    "tags": []
   },
   "source": [
    "## Sex vs Survived"
   ]
  },
  {
   "cell_type": "code",
   "execution_count": 69,
   "id": "df07240e",
   "metadata": {
    "execution": {
     "iopub.execute_input": "2022-10-17T13:50:18.215549Z",
     "iopub.status.busy": "2022-10-17T13:50:18.215140Z",
     "iopub.status.idle": "2022-10-17T13:50:18.708155Z",
     "shell.execute_reply": "2022-10-17T13:50:18.706882Z"
    },
    "papermill": {
     "duration": 0.523047,
     "end_time": "2022-10-17T13:50:18.711045",
     "exception": false,
     "start_time": "2022-10-17T13:50:18.187998",
     "status": "completed"
    },
    "tags": []
   },
   "outputs": [
    {
     "data": {
      "image/png": "[encoded data removed]",
      "text/plain": [
       "<Figure size 558.875x500 with 1 Axes>"
      ]
     },
     "metadata": {},
     "output_type": "display_data"
    }
   ],
   "source": [
    "sns.catplot(data=Xy, x=\"Sex\", y=\"Survived\", hue=\"Pclass\", kind=\"bar\");"
   ]
  },
  {
   "cell_type": "markdown",
   "id": "4020deb9",
   "metadata": {
    "papermill": {
     "duration": 0.025533,
     "end_time": "2022-10-17T13:50:18.763013",
     "exception": false,
     "start_time": "2022-10-17T13:50:18.737480",
     "status": "completed"
    },
    "tags": []
   },
   "source": [
    "### Insights:\n",
    "* Survival rate of female passengers was higher than that of male passengers.\n",
    "* Survival rate was higher for upper class passengers than that of lower class passengers."
   ]
  },
  {
   "cell_type": "markdown",
   "id": "14cab595",
   "metadata": {
    "papermill": {
     "duration": 0.025172,
     "end_time": "2022-10-17T13:50:18.814190",
     "exception": false,
     "start_time": "2022-10-17T13:50:18.789018",
     "status": "completed"
    },
    "tags": []
   },
   "source": [
    "## Age vs Survived"
   ]
  },
  {
   "cell_type": "code",
   "execution_count": 70,
   "id": "269c534a",
   "metadata": {
    "execution": {
     "iopub.execute_input": "2022-10-17T13:50:18.870527Z",
     "iopub.status.busy": "2022-10-17T13:50:18.869458Z",
     "iopub.status.idle": "2022-10-17T13:50:19.737579Z",
     "shell.execute_reply": "2022-10-17T13:50:19.735923Z"
    },
    "papermill": {
     "duration": 0.899348,
     "end_time": "2022-10-17T13:50:19.739925",
     "exception": false,
     "start_time": "2022-10-17T13:50:18.840577",
     "status": "completed"
    },
    "tags": []
   },
   "outputs": [
    {
     "data": {
      "image/png": "[encoded data removed]",
      "text/plain": [
       "<Figure size 698x500 with 1 Axes>"
      ]
     },
     "metadata": {},
     "output_type": "display_data"
    }
   ],
   "source": [
    "sns.catplot(data=Xy, y=\"Age\", x=\"Survived\", hue=\"Sex\", kind=\"swarm\", height=5, aspect=1.2);"
   ]
  },
  {
   "cell_type": "markdown",
   "id": "a9b1e38b",
   "metadata": {
    "papermill": {
     "duration": 0.029167,
     "end_time": "2022-10-17T13:50:19.797833",
     "exception": false,
     "start_time": "2022-10-17T13:50:19.768666",
     "status": "completed"
    },
    "tags": []
   },
   "source": [
    "### Insights:\n",
    "* Male passengers with age more than 50 had less chances of survival.\n",
    "* Passengers with age less than 10 had more chances of survival."
   ]
  },
  {
   "cell_type": "markdown",
   "id": "a98507f2",
   "metadata": {
    "papermill": {
     "duration": 0.027645,
     "end_time": "2022-10-17T13:50:19.852952",
     "exception": false,
     "start_time": "2022-10-17T13:50:19.825307",
     "status": "completed"
    },
    "tags": []
   },
   "source": [
    "## Fare vs Survived"
   ]
  },
  {
   "cell_type": "code",
   "execution_count": 71,
   "id": "ccd06d8c",
   "metadata": {
    "execution": {
     "iopub.execute_input": "2022-10-17T13:50:19.911138Z",
     "iopub.status.busy": "2022-10-17T13:50:19.910377Z",
     "iopub.status.idle": "2022-10-17T13:50:20.197854Z",
     "shell.execute_reply": "2022-10-17T13:50:20.196897Z"
    },
    "papermill": {
     "duration": 0.320324,
     "end_time": "2022-10-17T13:50:20.200324",
     "exception": false,
     "start_time": "2022-10-17T13:50:19.880000",
     "status": "completed"
    },
    "tags": []
   },
   "outputs": [
    {
     "data": {
      "text/plain": [
       "(0.0, 300.0)"
      ]
     },
     "execution_count": 71,
     "metadata": {},
     "output_type": "execute_result"
    },
    {
     "data": {
      "image/png": "[encoded data removed]",
      "text/plain": [
       "<Figure size 640x480 with 1 Axes>"
      ]
     },
     "metadata": {},
     "output_type": "display_data"
    }
   ],
   "source": [
    "sns.violinplot(data=Xy, y=\"Fare\", x=\"Survived\", hue=\"Sex\", split=True)\n",
    "plt.ylim(0, 300)"
   ]
  },
  {
   "cell_type": "markdown",
   "id": "59d41382",
   "metadata": {
    "papermill": {
     "duration": 0.026518,
     "end_time": "2022-10-17T13:50:20.253903",
     "exception": false,
     "start_time": "2022-10-17T13:50:20.227385",
     "status": "completed"
    },
    "tags": []
   },
   "source": [
    "### Insights:\n",
    "* Passengers having more fare than 80 had more rate of survival."
   ]
  },
  {
   "cell_type": "markdown",
   "id": "e53a6643",
   "metadata": {
    "papermill": {
     "duration": 0.027565,
     "end_time": "2022-10-17T13:50:20.310691",
     "exception": false,
     "start_time": "2022-10-17T13:50:20.283126",
     "status": "completed"
    },
    "tags": []
   },
   "source": [
    "# 6) Feature Engineering"
   ]
  },
  {
   "cell_type": "markdown",
   "id": "d7de6547",
   "metadata": {
    "papermill": {
     "duration": 0.027074,
     "end_time": "2022-10-17T13:50:20.364776",
     "exception": false,
     "start_time": "2022-10-17T13:50:20.337702",
     "status": "completed"
    },
    "tags": []
   },
   "source": [
    "## Create New Categorical Features"
   ]
  },
  {
   "cell_type": "markdown",
   "id": "16ba9b21",
   "metadata": {
    "papermill": {
     "duration": 0.027725,
     "end_time": "2022-10-17T13:50:20.419467",
     "exception": false,
     "start_time": "2022-10-17T13:50:20.391742",
     "status": "completed"
    },
    "tags": []
   },
   "source": [
    "### 1] Name Prefix"
   ]
  },
  {
   "cell_type": "code",
   "execution_count": 72,
   "id": "4e7f6d47",
   "metadata": {
    "execution": {
     "iopub.execute_input": "2022-10-17T13:50:20.477572Z",
     "iopub.status.busy": "2022-10-17T13:50:20.476801Z",
     "iopub.status.idle": "2022-10-17T13:50:20.489947Z",
     "shell.execute_reply": "2022-10-17T13:50:20.488209Z"
    },
    "papermill": {
     "duration": 0.045444,
     "end_time": "2022-10-17T13:50:20.493006",
     "exception": false,
     "start_time": "2022-10-17T13:50:20.447562",
     "status": "completed"
    },
    "tags": []
   },
   "outputs": [],
   "source": [
    "X['Prefix'] = X['Name'].str.split(expand=True)[1]\n",
    "X_test['Prefix'] = X_test['Name'].str.split(expand=True)[1]"
   ]
  },
  {
   "cell_type": "code",
   "execution_count": 73,
   "id": "40716f0b",
   "metadata": {
    "execution": {
     "iopub.execute_input": "2022-10-17T13:50:20.552666Z",
     "iopub.status.busy": "2022-10-17T13:50:20.552230Z",
     "iopub.status.idle": "2022-10-17T13:50:20.562054Z",
     "shell.execute_reply": "2022-10-17T13:50:20.560586Z"
    },
    "papermill": {
     "duration": 0.043175,
     "end_time": "2022-10-17T13:50:20.564630",
     "exception": false,
     "start_time": "2022-10-17T13:50:20.521455",
     "status": "completed"
    },
    "tags": []
   },
   "outputs": [
    {
     "data": {
      "text/plain": [
       "Index(['Mr.', 'Miss.', 'Mrs.', 'Master.'], dtype='object', name='Prefix')"
      ]
     },
     "execution_count": 73,
     "metadata": {},
     "output_type": "execute_result"
    }
   ],
   "source": [
    "prefixes = X.Prefix.value_counts()\n",
    "top_prefixes = prefixes[prefixes>len(X)/25].index\n",
    "top_prefixes"
   ]
  },
  {
   "cell_type": "code",
   "execution_count": 74,
   "id": "23e447c4",
   "metadata": {
    "execution": {
     "iopub.execute_input": "2022-10-17T13:50:20.620884Z",
     "iopub.status.busy": "2022-10-17T13:50:20.620463Z",
     "iopub.status.idle": "2022-10-17T13:50:20.629434Z",
     "shell.execute_reply": "2022-10-17T13:50:20.628052Z"
    },
    "papermill": {
     "duration": 0.040291,
     "end_time": "2022-10-17T13:50:20.631890",
     "exception": false,
     "start_time": "2022-10-17T13:50:20.591599",
     "status": "completed"
    },
    "tags": []
   },
   "outputs": [],
   "source": [
    "X.Prefix = X.Prefix.apply(lambda x: x if x in top_prefixes else 'other')\n",
    "X_test.Prefix = X_test.Prefix.apply(lambda x: x if x in top_prefixes else 'other')"
   ]
  },
  {
   "cell_type": "code",
   "execution_count": 75,
   "id": "5e5bd600",
   "metadata": {
    "execution": {
     "iopub.execute_input": "2022-10-17T13:50:20.691544Z",
     "iopub.status.busy": "2022-10-17T13:50:20.691114Z",
     "iopub.status.idle": "2022-10-17T13:50:20.705979Z",
     "shell.execute_reply": "2022-10-17T13:50:20.704643Z"
    },
    "papermill": {
     "duration": 0.0475,
     "end_time": "2022-10-17T13:50:20.708590",
     "exception": false,
     "start_time": "2022-10-17T13:50:20.661090",
     "status": "completed"
    },
    "tags": []
   },
   "outputs": [
    {
     "data": {
      "text/html": [
       "<div>\n",
       "<style scoped>\n",
       "    .dataframe tbody tr th:only-of-type {\n",
       "        vertical-align: middle;\n",
       "    }\n",
       "\n",
       "    .dataframe tbody tr th {\n",
       "        vertical-align: top;\n",
       "    }\n",
       "\n",
       "    .dataframe thead th {\n",
       "        text-align: right;\n",
       "    }\n",
       "</style>\n",
       "<table border=\"1\" class=\"dataframe\">\n",
       "  <thead>\n",
       "    <tr style=\"text-align: right;\">\n",
       "      <th></th>\n",
       "      <th>count</th>\n",
       "      <th>Prefix_test</th>\n",
       "    </tr>\n",
       "    <tr>\n",
       "      <th>Prefix</th>\n",
       "      <th></th>\n",
       "      <th></th>\n",
       "    </tr>\n",
       "  </thead>\n",
       "  <tbody>\n",
       "    <tr>\n",
       "      <th>Mr.</th>\n",
       "      <td>502</td>\n",
       "      <td>234</td>\n",
       "    </tr>\n",
       "    <tr>\n",
       "      <th>Miss.</th>\n",
       "      <td>179</td>\n",
       "      <td>77</td>\n",
       "    </tr>\n",
       "    <tr>\n",
       "      <th>Mrs.</th>\n",
       "      <td>121</td>\n",
       "      <td>70</td>\n",
       "    </tr>\n",
       "    <tr>\n",
       "      <th>other</th>\n",
       "      <td>49</td>\n",
       "      <td>19</td>\n",
       "    </tr>\n",
       "    <tr>\n",
       "      <th>Master.</th>\n",
       "      <td>40</td>\n",
       "      <td>18</td>\n",
       "    </tr>\n",
       "  </tbody>\n",
       "</table>\n",
       "</div>"
      ],
      "text/plain": [
       "         count  Prefix_test\n",
       "Prefix                     \n",
       "Mr.        502          234\n",
       "Miss.      179           77\n",
       "Mrs.       121           70\n",
       "other       49           19\n",
       "Master.     40           18"
      ]
     },
     "execution_count": 75,
     "metadata": {},
     "output_type": "execute_result"
    }
   ],
   "source": [
    "df = pd.DataFrame(X['Prefix'].value_counts())\n",
    "df['Prefix_test'] = X_test['Prefix'].value_counts().values\n",
    "df"
   ]
  },
  {
   "cell_type": "markdown",
   "id": "4c47fc75",
   "metadata": {
    "papermill": {
     "duration": 0.026863,
     "end_time": "2022-10-17T13:50:20.763560",
     "exception": false,
     "start_time": "2022-10-17T13:50:20.736697",
     "status": "completed"
    },
    "tags": []
   },
   "source": [
    "## Imputing Age (using group means)"
   ]
  },
  {
   "cell_type": "code",
   "execution_count": 76,
   "id": "3f551e0e",
   "metadata": {
    "execution": {
     "iopub.execute_input": "2022-10-17T13:50:20.820516Z",
     "iopub.status.busy": "2022-10-17T13:50:20.820123Z",
     "iopub.status.idle": "2022-10-17T13:50:20.827476Z",
     "shell.execute_reply": "2022-10-17T13:50:20.826086Z"
    },
    "papermill": {
     "duration": 0.03944,
     "end_time": "2022-10-17T13:50:20.830417",
     "exception": false,
     "start_time": "2022-10-17T13:50:20.790977",
     "status": "completed"
    },
    "tags": []
   },
   "outputs": [
    {
     "name": "stdout",
     "output_type": "stream",
     "text": [
      "177 86\n"
     ]
    }
   ],
   "source": [
    "# Number of missing values in Age column\n",
    "null_index=X.Age.isnull()\n",
    "null_index_test=X_test.Age.isnull()\n",
    "print(null_index.sum(),null_index_test.sum())"
   ]
  },
  {
   "cell_type": "code",
   "execution_count": 77,
   "id": "715794ac",
   "metadata": {
    "execution": {
     "iopub.execute_input": "2022-10-17T13:50:20.888718Z",
     "iopub.status.busy": "2022-10-17T13:50:20.888326Z",
     "iopub.status.idle": "2022-10-17T13:50:20.907365Z",
     "shell.execute_reply": "2022-10-17T13:50:20.906181Z"
    },
    "papermill": {
     "duration": 0.052366,
     "end_time": "2022-10-17T13:50:20.909874",
     "exception": false,
     "start_time": "2022-10-17T13:50:20.857508",
     "status": "completed"
    },
    "tags": []
   },
   "outputs": [
    {
     "data": {
      "text/html": [
       "<div>\n",
       "<style scoped>\n",
       "    .dataframe tbody tr th:only-of-type {\n",
       "        vertical-align: middle;\n",
       "    }\n",
       "\n",
       "    .dataframe tbody tr th {\n",
       "        vertical-align: top;\n",
       "    }\n",
       "\n",
       "    .dataframe thead th {\n",
       "        text-align: right;\n",
       "    }\n",
       "</style>\n",
       "<table border=\"1\" class=\"dataframe\">\n",
       "  <thead>\n",
       "    <tr style=\"text-align: right;\">\n",
       "      <th></th>\n",
       "      <th></th>\n",
       "      <th>Age</th>\n",
       "    </tr>\n",
       "    <tr>\n",
       "      <th>Prefix</th>\n",
       "      <th>Pclass</th>\n",
       "      <th></th>\n",
       "    </tr>\n",
       "  </thead>\n",
       "  <tbody>\n",
       "    <tr>\n",
       "      <th rowspan=\"3\" valign=\"top\">Master.</th>\n",
       "      <th>1</th>\n",
       "      <td>5.0</td>\n",
       "    </tr>\n",
       "    <tr>\n",
       "      <th>2</th>\n",
       "      <td>2.0</td>\n",
       "    </tr>\n",
       "    <tr>\n",
       "      <th>3</th>\n",
       "      <td>5.0</td>\n",
       "    </tr>\n",
       "    <tr>\n",
       "      <th rowspan=\"3\" valign=\"top\">Miss.</th>\n",
       "      <th>1</th>\n",
       "      <td>30.0</td>\n",
       "    </tr>\n",
       "    <tr>\n",
       "      <th>2</th>\n",
       "      <td>22.0</td>\n",
       "    </tr>\n",
       "    <tr>\n",
       "      <th>3</th>\n",
       "      <td>16.0</td>\n",
       "    </tr>\n",
       "    <tr>\n",
       "      <th rowspan=\"3\" valign=\"top\">Mr.</th>\n",
       "      <th>1</th>\n",
       "      <td>42.0</td>\n",
       "    </tr>\n",
       "    <tr>\n",
       "      <th>2</th>\n",
       "      <td>33.0</td>\n",
       "    </tr>\n",
       "    <tr>\n",
       "      <th>3</th>\n",
       "      <td>29.0</td>\n",
       "    </tr>\n",
       "    <tr>\n",
       "      <th rowspan=\"3\" valign=\"top\">Mrs.</th>\n",
       "      <th>1</th>\n",
       "      <td>42.0</td>\n",
       "    </tr>\n",
       "    <tr>\n",
       "      <th>2</th>\n",
       "      <td>34.0</td>\n",
       "    </tr>\n",
       "    <tr>\n",
       "      <th>3</th>\n",
       "      <td>34.0</td>\n",
       "    </tr>\n",
       "    <tr>\n",
       "      <th rowspan=\"3\" valign=\"top\">other</th>\n",
       "      <th>1</th>\n",
       "      <td>42.0</td>\n",
       "    </tr>\n",
       "    <tr>\n",
       "      <th>2</th>\n",
       "      <td>38.0</td>\n",
       "    </tr>\n",
       "    <tr>\n",
       "      <th>3</th>\n",
       "      <td>29.0</td>\n",
       "    </tr>\n",
       "  </tbody>\n",
       "</table>\n",
       "</div>"
      ],
      "text/plain": [
       "                 Age\n",
       "Prefix  Pclass      \n",
       "Master. 1        5.0\n",
       "        2        2.0\n",
       "        3        5.0\n",
       "Miss.   1       30.0\n",
       "        2       22.0\n",
       "        3       16.0\n",
       "Mr.     1       42.0\n",
       "        2       33.0\n",
       "        3       29.0\n",
       "Mrs.    1       42.0\n",
       "        2       34.0\n",
       "        3       34.0\n",
       "other   1       42.0\n",
       "        2       38.0\n",
       "        3       29.0"
      ]
     },
     "execution_count": 77,
     "metadata": {},
     "output_type": "execute_result"
    }
   ],
   "source": [
    "avg_ages = X.groupby(['Prefix','Pclass']).Age.mean().round()\n",
    "pd.DataFrame(avg_ages)"
   ]
  },
  {
   "cell_type": "code",
   "execution_count": 78,
   "id": "a638e551",
   "metadata": {
    "execution": {
     "iopub.execute_input": "2022-10-17T13:50:20.969842Z",
     "iopub.status.busy": "2022-10-17T13:50:20.969412Z",
     "iopub.status.idle": "2022-10-17T13:50:21.021182Z",
     "shell.execute_reply": "2022-10-17T13:50:21.019904Z"
    },
    "papermill": {
     "duration": 0.083805,
     "end_time": "2022-10-17T13:50:21.024283",
     "exception": false,
     "start_time": "2022-10-17T13:50:20.940478",
     "status": "completed"
    },
    "tags": []
   },
   "outputs": [],
   "source": [
    "for (i,k) in avg_ages.index:\n",
    "    value = avg_ages.loc[i,k]\n",
    "    X.loc[(X.Prefix==i) & (X.Pclass==k) & (X.Age.isnull()),'Age'] = value\n",
    "    X_test.loc[(X_test.Prefix==i) & (X_test.Pclass==k) & (X_test.Age.isnull()),'Age'] = value"
   ]
  },
  {
   "cell_type": "code",
   "execution_count": 79,
   "id": "912ff9ad",
   "metadata": {
    "execution": {
     "iopub.execute_input": "2022-10-17T13:50:21.081876Z",
     "iopub.status.busy": "2022-10-17T13:50:21.081480Z",
     "iopub.status.idle": "2022-10-17T13:50:21.088256Z",
     "shell.execute_reply": "2022-10-17T13:50:21.086903Z"
    },
    "papermill": {
     "duration": 0.039326,
     "end_time": "2022-10-17T13:50:21.091415",
     "exception": false,
     "start_time": "2022-10-17T13:50:21.052089",
     "status": "completed"
    },
    "tags": []
   },
   "outputs": [
    {
     "name": "stdout",
     "output_type": "stream",
     "text": [
      "0 0\n"
     ]
    }
   ],
   "source": [
    "# Number of missing age values after imputation\n",
    "print(X[\"Age\"].isnull().sum(),X_test[\"Age\"].isnull().sum())"
   ]
  },
  {
   "cell_type": "code",
   "execution_count": 80,
   "id": "80919562",
   "metadata": {
    "execution": {
     "iopub.execute_input": "2022-10-17T13:50:21.149993Z",
     "iopub.status.busy": "2022-10-17T13:50:21.149540Z",
     "iopub.status.idle": "2022-10-17T13:50:21.167960Z",
     "shell.execute_reply": "2022-10-17T13:50:21.166660Z"
    },
    "papermill": {
     "duration": 0.050083,
     "end_time": "2022-10-17T13:50:21.170443",
     "exception": false,
     "start_time": "2022-10-17T13:50:21.120360",
     "status": "completed"
    },
    "tags": []
   },
   "outputs": [
    {
     "data": {
      "text/html": [
       "<div>\n",
       "<style scoped>\n",
       "    .dataframe tbody tr th:only-of-type {\n",
       "        vertical-align: middle;\n",
       "    }\n",
       "\n",
       "    .dataframe tbody tr th {\n",
       "        vertical-align: top;\n",
       "    }\n",
       "\n",
       "    .dataframe thead th {\n",
       "        text-align: right;\n",
       "    }\n",
       "</style>\n",
       "<table border=\"1\" class=\"dataframe\">\n",
       "  <thead>\n",
       "    <tr style=\"text-align: right;\">\n",
       "      <th></th>\n",
       "      <th>Pclass</th>\n",
       "      <th>Name</th>\n",
       "      <th>Sex</th>\n",
       "      <th>Age</th>\n",
       "      <th>SibSp</th>\n",
       "      <th>Parch</th>\n",
       "      <th>Ticket</th>\n",
       "      <th>Fare</th>\n",
       "      <th>Embarked</th>\n",
       "      <th>Prefix</th>\n",
       "    </tr>\n",
       "    <tr>\n",
       "      <th>PassengerId</th>\n",
       "      <th></th>\n",
       "      <th></th>\n",
       "      <th></th>\n",
       "      <th></th>\n",
       "      <th></th>\n",
       "      <th></th>\n",
       "      <th></th>\n",
       "      <th></th>\n",
       "      <th></th>\n",
       "      <th></th>\n",
       "    </tr>\n",
       "  </thead>\n",
       "  <tbody>\n",
       "    <tr>\n",
       "      <th>6</th>\n",
       "      <td>3</td>\n",
       "      <td>Moran, Mr. James</td>\n",
       "      <td>male</td>\n",
       "      <td>29.0</td>\n",
       "      <td>0</td>\n",
       "      <td>0</td>\n",
       "      <td>330877</td>\n",
       "      <td>8.4583</td>\n",
       "      <td>Q</td>\n",
       "      <td>Mr.</td>\n",
       "    </tr>\n",
       "    <tr>\n",
       "      <th>18</th>\n",
       "      <td>2</td>\n",
       "      <td>Williams, Mr. Charles Eugene</td>\n",
       "      <td>male</td>\n",
       "      <td>33.0</td>\n",
       "      <td>0</td>\n",
       "      <td>0</td>\n",
       "      <td>244373</td>\n",
       "      <td>13.0000</td>\n",
       "      <td>S</td>\n",
       "      <td>Mr.</td>\n",
       "    </tr>\n",
       "  </tbody>\n",
       "</table>\n",
       "</div>"
      ],
      "text/plain": [
       "             Pclass                          Name   Sex   Age  SibSp  Parch  \\\n",
       "PassengerId                                                                   \n",
       "6                 3              Moran, Mr. James  male  29.0      0      0   \n",
       "18                2  Williams, Mr. Charles Eugene  male  33.0      0      0   \n",
       "\n",
       "             Ticket     Fare Embarked Prefix  \n",
       "PassengerId                                   \n",
       "6            330877   8.4583        Q    Mr.  \n",
       "18           244373  13.0000        S    Mr.  "
      ]
     },
     "execution_count": 80,
     "metadata": {},
     "output_type": "execute_result"
    }
   ],
   "source": [
    "# Rows where we imputed Age values\n",
    "X[null_index].head(2)"
   ]
  },
  {
   "cell_type": "code",
   "execution_count": 81,
   "id": "b950b300",
   "metadata": {
    "execution": {
     "iopub.execute_input": "2022-10-17T13:50:21.230532Z",
     "iopub.status.busy": "2022-10-17T13:50:21.230152Z",
     "iopub.status.idle": "2022-10-17T13:50:21.238962Z",
     "shell.execute_reply": "2022-10-17T13:50:21.237590Z"
    },
    "papermill": {
     "duration": 0.041194,
     "end_time": "2022-10-17T13:50:21.241490",
     "exception": false,
     "start_time": "2022-10-17T13:50:21.200296",
     "status": "completed"
    },
    "tags": []
   },
   "outputs": [],
   "source": [
    "# Now, we will combine known prefixes as these categories are redundent when Sex column is present.\n",
    "X.Prefix = X.Prefix.replace(['Mr.', 'Miss.', 'Mrs.', 'Master.'], 'known')\n",
    "X_test.Prefix = X_test.Prefix.replace(['Mr.', 'Miss.', 'Mrs.', 'Master.'], 'known')"
   ]
  },
  {
   "cell_type": "code",
   "execution_count": 82,
   "id": "678f598d",
   "metadata": {
    "execution": {
     "iopub.execute_input": "2022-10-17T13:50:21.298625Z",
     "iopub.status.busy": "2022-10-17T13:50:21.298219Z",
     "iopub.status.idle": "2022-10-17T13:50:21.307021Z",
     "shell.execute_reply": "2022-10-17T13:50:21.305742Z"
    },
    "papermill": {
     "duration": 0.040204,
     "end_time": "2022-10-17T13:50:21.309252",
     "exception": false,
     "start_time": "2022-10-17T13:50:21.269048",
     "status": "completed"
    },
    "tags": []
   },
   "outputs": [],
   "source": [
    "# We do not need 'Name' column anymore.\n",
    "X = X.drop(['Name'], axis=1)\n",
    "X_test = X_test.drop(['Name'], axis=1)"
   ]
  },
  {
   "cell_type": "markdown",
   "id": "b5149c1e",
   "metadata": {
    "papermill": {
     "duration": 0.02786,
     "end_time": "2022-10-17T13:50:21.365034",
     "exception": false,
     "start_time": "2022-10-17T13:50:21.337174",
     "status": "completed"
    },
    "tags": []
   },
   "source": [
    "### 2] Age Category"
   ]
  },
  {
   "cell_type": "code",
   "execution_count": 83,
   "id": "43a7bb86",
   "metadata": {
    "execution": {
     "iopub.execute_input": "2022-10-17T13:50:21.423505Z",
     "iopub.status.busy": "2022-10-17T13:50:21.423096Z",
     "iopub.status.idle": "2022-10-17T13:50:21.438253Z",
     "shell.execute_reply": "2022-10-17T13:50:21.436943Z"
    },
    "papermill": {
     "duration": 0.047401,
     "end_time": "2022-10-17T13:50:21.440998",
     "exception": false,
     "start_time": "2022-10-17T13:50:21.393597",
     "status": "completed"
    },
    "tags": []
   },
   "outputs": [
    {
     "data": {
      "text/plain": [
       "CategoricalDtype(categories=['child', 'young', 'adult', 'senior'], ordered=True, categories_dtype=object)"
      ]
     },
     "execution_count": 83,
     "metadata": {},
     "output_type": "execute_result"
    }
   ],
   "source": [
    "def Age_categorise(df):\n",
    "    df['Age_Cat'] = pd.cut(df.Age, bins = [0,10,40,60,100], labels = ['child','young','adult','senior'])\n",
    "    \n",
    "Age_categorise(X)\n",
    "Age_categorise(X_test)\n",
    "X['Age_Cat'].dtype"
   ]
  },
  {
   "cell_type": "code",
   "execution_count": 84,
   "id": "3b3210f4",
   "metadata": {
    "execution": {
     "iopub.execute_input": "2022-10-17T13:50:21.499914Z",
     "iopub.status.busy": "2022-10-17T13:50:21.499456Z",
     "iopub.status.idle": "2022-10-17T13:50:21.515017Z",
     "shell.execute_reply": "2022-10-17T13:50:21.513669Z"
    },
    "papermill": {
     "duration": 0.047142,
     "end_time": "2022-10-17T13:50:21.517460",
     "exception": false,
     "start_time": "2022-10-17T13:50:21.470318",
     "status": "completed"
    },
    "tags": []
   },
   "outputs": [
    {
     "data": {
      "text/html": [
       "<div>\n",
       "<style scoped>\n",
       "    .dataframe tbody tr th:only-of-type {\n",
       "        vertical-align: middle;\n",
       "    }\n",
       "\n",
       "    .dataframe tbody tr th {\n",
       "        vertical-align: top;\n",
       "    }\n",
       "\n",
       "    .dataframe thead th {\n",
       "        text-align: right;\n",
       "    }\n",
       "</style>\n",
       "<table border=\"1\" class=\"dataframe\">\n",
       "  <thead>\n",
       "    <tr style=\"text-align: right;\">\n",
       "      <th></th>\n",
       "      <th>count</th>\n",
       "      <th>Age_Cat_test</th>\n",
       "    </tr>\n",
       "    <tr>\n",
       "      <th>Age_Cat</th>\n",
       "      <th></th>\n",
       "      <th></th>\n",
       "    </tr>\n",
       "  </thead>\n",
       "  <tbody>\n",
       "    <tr>\n",
       "      <th>young</th>\n",
       "      <td>644</td>\n",
       "      <td>307</td>\n",
       "    </tr>\n",
       "    <tr>\n",
       "      <th>adult</th>\n",
       "      <td>157</td>\n",
       "      <td>75</td>\n",
       "    </tr>\n",
       "    <tr>\n",
       "      <th>child</th>\n",
       "      <td>68</td>\n",
       "      <td>25</td>\n",
       "    </tr>\n",
       "    <tr>\n",
       "      <th>senior</th>\n",
       "      <td>22</td>\n",
       "      <td>11</td>\n",
       "    </tr>\n",
       "  </tbody>\n",
       "</table>\n",
       "</div>"
      ],
      "text/plain": [
       "         count  Age_Cat_test\n",
       "Age_Cat                     \n",
       "young      644           307\n",
       "adult      157            75\n",
       "child       68            25\n",
       "senior      22            11"
      ]
     },
     "execution_count": 84,
     "metadata": {},
     "output_type": "execute_result"
    }
   ],
   "source": [
    "df = pd.DataFrame(X['Age_Cat'].value_counts())\n",
    "df['Age_Cat_test'] = X_test['Age_Cat'].value_counts().values\n",
    "df"
   ]
  },
  {
   "cell_type": "markdown",
   "id": "0fbb08df",
   "metadata": {
    "papermill": {
     "duration": 0.028772,
     "end_time": "2022-10-17T13:50:21.574767",
     "exception": false,
     "start_time": "2022-10-17T13:50:21.545995",
     "status": "completed"
    },
    "tags": []
   },
   "source": [
    "### 3] Fare Category"
   ]
  },
  {
   "cell_type": "code",
   "execution_count": 85,
   "id": "4feaa191",
   "metadata": {
    "execution": {
     "iopub.execute_input": "2022-10-17T13:50:21.635896Z",
     "iopub.status.busy": "2022-10-17T13:50:21.634670Z",
     "iopub.status.idle": "2022-10-17T13:50:21.645984Z",
     "shell.execute_reply": "2022-10-17T13:50:21.645090Z"
    },
    "papermill": {
     "duration": 0.043499,
     "end_time": "2022-10-17T13:50:21.648102",
     "exception": false,
     "start_time": "2022-10-17T13:50:21.604603",
     "status": "completed"
    },
    "tags": []
   },
   "outputs": [
    {
     "data": {
      "text/plain": [
       "count    891.000000\n",
       "mean      32.204208\n",
       "std       49.693429\n",
       "min        0.000000\n",
       "25%        7.910400\n",
       "50%       14.454200\n",
       "75%       31.000000\n",
       "max      512.329200\n",
       "Name: Fare, dtype: float64"
      ]
     },
     "execution_count": 85,
     "metadata": {},
     "output_type": "execute_result"
    }
   ],
   "source": [
    "X.Fare.describe()"
   ]
  },
  {
   "cell_type": "code",
   "execution_count": 86,
   "id": "1769d5b0",
   "metadata": {
    "execution": {
     "iopub.execute_input": "2022-10-17T13:50:21.709663Z",
     "iopub.status.busy": "2022-10-17T13:50:21.709236Z",
     "iopub.status.idle": "2022-10-17T13:50:21.722680Z",
     "shell.execute_reply": "2022-10-17T13:50:21.721708Z"
    },
    "papermill": {
     "duration": 0.048153,
     "end_time": "2022-10-17T13:50:21.724883",
     "exception": false,
     "start_time": "2022-10-17T13:50:21.676730",
     "status": "completed"
    },
    "tags": []
   },
   "outputs": [
    {
     "data": {
      "text/plain": [
       "CategoricalDtype(categories=['low', 'medium', 'high', 'very_high'], ordered=True, categories_dtype=object)"
      ]
     },
     "execution_count": 86,
     "metadata": {},
     "output_type": "execute_result"
    }
   ],
   "source": [
    "def Fare_categorise(df):\n",
    "    df['Fare_Cat'] = pd.qcut(df.Fare, q=4, labels = ['low','medium','high','very_high'])\n",
    "    \n",
    "Fare_categorise(X)\n",
    "Fare_categorise(X_test)\n",
    "X['Fare_Cat'].dtype"
   ]
  },
  {
   "cell_type": "code",
   "execution_count": 87,
   "id": "bdd1133d",
   "metadata": {
    "execution": {
     "iopub.execute_input": "2022-10-17T13:50:21.783904Z",
     "iopub.status.busy": "2022-10-17T13:50:21.783150Z",
     "iopub.status.idle": "2022-10-17T13:50:21.798248Z",
     "shell.execute_reply": "2022-10-17T13:50:21.797032Z"
    },
    "papermill": {
     "duration": 0.047627,
     "end_time": "2022-10-17T13:50:21.801039",
     "exception": false,
     "start_time": "2022-10-17T13:50:21.753412",
     "status": "completed"
    },
    "tags": []
   },
   "outputs": [
    {
     "data": {
      "text/html": [
       "<div>\n",
       "<style scoped>\n",
       "    .dataframe tbody tr th:only-of-type {\n",
       "        vertical-align: middle;\n",
       "    }\n",
       "\n",
       "    .dataframe tbody tr th {\n",
       "        vertical-align: top;\n",
       "    }\n",
       "\n",
       "    .dataframe thead th {\n",
       "        text-align: right;\n",
       "    }\n",
       "</style>\n",
       "<table border=\"1\" class=\"dataframe\">\n",
       "  <thead>\n",
       "    <tr style=\"text-align: right;\">\n",
       "      <th></th>\n",
       "      <th>count</th>\n",
       "      <th>Fare_Cat_test</th>\n",
       "    </tr>\n",
       "    <tr>\n",
       "      <th>Fare_Cat</th>\n",
       "      <th></th>\n",
       "      <th></th>\n",
       "    </tr>\n",
       "  </thead>\n",
       "  <tbody>\n",
       "    <tr>\n",
       "      <th>medium</th>\n",
       "      <td>224</td>\n",
       "      <td>114</td>\n",
       "    </tr>\n",
       "    <tr>\n",
       "      <th>low</th>\n",
       "      <td>223</td>\n",
       "      <td>105</td>\n",
       "    </tr>\n",
       "    <tr>\n",
       "      <th>high</th>\n",
       "      <td>222</td>\n",
       "      <td>102</td>\n",
       "    </tr>\n",
       "    <tr>\n",
       "      <th>very_high</th>\n",
       "      <td>222</td>\n",
       "      <td>96</td>\n",
       "    </tr>\n",
       "  </tbody>\n",
       "</table>\n",
       "</div>"
      ],
      "text/plain": [
       "           count  Fare_Cat_test\n",
       "Fare_Cat                       \n",
       "medium       224            114\n",
       "low          223            105\n",
       "high         222            102\n",
       "very_high    222             96"
      ]
     },
     "execution_count": 87,
     "metadata": {},
     "output_type": "execute_result"
    }
   ],
   "source": [
    "df = pd.DataFrame(X['Fare_Cat'].value_counts())\n",
    "df['Fare_Cat_test'] = X_test['Fare_Cat'].value_counts().values\n",
    "df"
   ]
  },
  {
   "cell_type": "markdown",
   "id": "097942c6",
   "metadata": {
    "papermill": {
     "duration": 0.028449,
     "end_time": "2022-10-17T13:50:21.859927",
     "exception": false,
     "start_time": "2022-10-17T13:50:21.831478",
     "status": "completed"
    },
    "tags": []
   },
   "source": [
    "### 4] Family Size"
   ]
  },
  {
   "cell_type": "code",
   "execution_count": 88,
   "id": "9012ca05",
   "metadata": {
    "execution": {
     "iopub.execute_input": "2022-10-17T13:50:21.921476Z",
     "iopub.status.busy": "2022-10-17T13:50:21.921045Z",
     "iopub.status.idle": "2022-10-17T13:50:21.932426Z",
     "shell.execute_reply": "2022-10-17T13:50:21.931408Z"
    },
    "papermill": {
     "duration": 0.044894,
     "end_time": "2022-10-17T13:50:21.935354",
     "exception": false,
     "start_time": "2022-10-17T13:50:21.890460",
     "status": "completed"
    },
    "tags": []
   },
   "outputs": [],
   "source": [
    "X['Family'] = X['SibSp'] + X['Parch']\n",
    "X_test['Family'] = X_test['SibSp'] + X_test['Parch']\n",
    "\n",
    "X = X.drop(['SibSp','Parch'],axis=1)\n",
    "X_test = X_test.drop(['SibSp','Parch'],axis=1)"
   ]
  },
  {
   "cell_type": "code",
   "execution_count": 89,
   "id": "963d09e9",
   "metadata": {
    "execution": {
     "iopub.execute_input": "2022-10-17T13:50:21.996395Z",
     "iopub.status.busy": "2022-10-17T13:50:21.995399Z",
     "iopub.status.idle": "2022-10-17T13:50:22.004285Z",
     "shell.execute_reply": "2022-10-17T13:50:22.003068Z"
    },
    "papermill": {
     "duration": 0.041826,
     "end_time": "2022-10-17T13:50:22.006762",
     "exception": false,
     "start_time": "2022-10-17T13:50:21.964936",
     "status": "completed"
    },
    "tags": []
   },
   "outputs": [
    {
     "data": {
      "text/plain": [
       "Family\n",
       "0     537\n",
       "1     161\n",
       "2     102\n",
       "3      29\n",
       "5      22\n",
       "4      15\n",
       "6      12\n",
       "10      7\n",
       "7       6\n",
       "Name: count, dtype: int64"
      ]
     },
     "execution_count": 89,
     "metadata": {},
     "output_type": "execute_result"
    }
   ],
   "source": [
    "X.Family.value_counts()"
   ]
  },
  {
   "cell_type": "code",
   "execution_count": 90,
   "id": "fa9467db",
   "metadata": {
    "execution": {
     "iopub.execute_input": "2022-10-17T13:50:22.066900Z",
     "iopub.status.busy": "2022-10-17T13:50:22.066457Z",
     "iopub.status.idle": "2022-10-17T13:50:22.077705Z",
     "shell.execute_reply": "2022-10-17T13:50:22.076260Z"
    },
    "papermill": {
     "duration": 0.045219,
     "end_time": "2022-10-17T13:50:22.080471",
     "exception": false,
     "start_time": "2022-10-17T13:50:22.035252",
     "status": "completed"
    },
    "tags": []
   },
   "outputs": [],
   "source": [
    "def Categorize_Family(df):\n",
    "    df['Family_Size'] = pd.cut(df.Family, bins = [-1,0,2,12], labels = ['alone', 'medium', 'large'])\n",
    "    \n",
    "Categorize_Family(X)\n",
    "Categorize_Family(X_test)"
   ]
  },
  {
   "cell_type": "code",
   "execution_count": 91,
   "id": "f76a4184",
   "metadata": {
    "execution": {
     "iopub.execute_input": "2022-10-17T13:50:22.141468Z",
     "iopub.status.busy": "2022-10-17T13:50:22.141034Z",
     "iopub.status.idle": "2022-10-17T13:50:22.155052Z",
     "shell.execute_reply": "2022-10-17T13:50:22.153416Z"
    },
    "papermill": {
     "duration": 0.047431,
     "end_time": "2022-10-17T13:50:22.157993",
     "exception": false,
     "start_time": "2022-10-17T13:50:22.110562",
     "status": "completed"
    },
    "tags": []
   },
   "outputs": [
    {
     "data": {
      "text/html": [
       "<div>\n",
       "<style scoped>\n",
       "    .dataframe tbody tr th:only-of-type {\n",
       "        vertical-align: middle;\n",
       "    }\n",
       "\n",
       "    .dataframe tbody tr th {\n",
       "        vertical-align: top;\n",
       "    }\n",
       "\n",
       "    .dataframe thead th {\n",
       "        text-align: right;\n",
       "    }\n",
       "</style>\n",
       "<table border=\"1\" class=\"dataframe\">\n",
       "  <thead>\n",
       "    <tr style=\"text-align: right;\">\n",
       "      <th></th>\n",
       "      <th>count</th>\n",
       "      <th>Family_Size_test</th>\n",
       "    </tr>\n",
       "    <tr>\n",
       "      <th>Family_Size</th>\n",
       "      <th></th>\n",
       "      <th></th>\n",
       "    </tr>\n",
       "  </thead>\n",
       "  <tbody>\n",
       "    <tr>\n",
       "      <th>alone</th>\n",
       "      <td>537</td>\n",
       "      <td>253</td>\n",
       "    </tr>\n",
       "    <tr>\n",
       "      <th>medium</th>\n",
       "      <td>263</td>\n",
       "      <td>131</td>\n",
       "    </tr>\n",
       "    <tr>\n",
       "      <th>large</th>\n",
       "      <td>91</td>\n",
       "      <td>34</td>\n",
       "    </tr>\n",
       "  </tbody>\n",
       "</table>\n",
       "</div>"
      ],
      "text/plain": [
       "             count  Family_Size_test\n",
       "Family_Size                         \n",
       "alone          537               253\n",
       "medium         263               131\n",
       "large           91                34"
      ]
     },
     "execution_count": 91,
     "metadata": {},
     "output_type": "execute_result"
    }
   ],
   "source": [
    "df = pd.DataFrame(X['Family_Size'].value_counts())\n",
    "df['Family_Size_test'] = X_test['Family_Size'].value_counts().values\n",
    "df"
   ]
  },
  {
   "cell_type": "markdown",
   "id": "3629cfac",
   "metadata": {
    "papermill": {
     "duration": 0.031206,
     "end_time": "2022-10-17T13:50:22.219229",
     "exception": false,
     "start_time": "2022-10-17T13:50:22.188023",
     "status": "completed"
    },
    "tags": []
   },
   "source": [
    "Let us see newly created categorical columns."
   ]
  },
  {
   "cell_type": "code",
   "execution_count": 92,
   "id": "2bf4740b",
   "metadata": {
    "execution": {
     "iopub.execute_input": "2022-10-17T13:50:22.279603Z",
     "iopub.status.busy": "2022-10-17T13:50:22.279192Z",
     "iopub.status.idle": "2022-10-17T13:50:22.297199Z",
     "shell.execute_reply": "2022-10-17T13:50:22.295466Z"
    },
    "papermill": {
     "duration": 0.051989,
     "end_time": "2022-10-17T13:50:22.299994",
     "exception": false,
     "start_time": "2022-10-17T13:50:22.248005",
     "status": "completed"
    },
    "tags": []
   },
   "outputs": [
    {
     "data": {
      "text/html": [
       "<div>\n",
       "<style scoped>\n",
       "    .dataframe tbody tr th:only-of-type {\n",
       "        vertical-align: middle;\n",
       "    }\n",
       "\n",
       "    .dataframe tbody tr th {\n",
       "        vertical-align: top;\n",
       "    }\n",
       "\n",
       "    .dataframe thead th {\n",
       "        text-align: right;\n",
       "    }\n",
       "</style>\n",
       "<table border=\"1\" class=\"dataframe\">\n",
       "  <thead>\n",
       "    <tr style=\"text-align: right;\">\n",
       "      <th></th>\n",
       "      <th>Pclass</th>\n",
       "      <th>Sex</th>\n",
       "      <th>Age</th>\n",
       "      <th>Ticket</th>\n",
       "      <th>Fare</th>\n",
       "      <th>Embarked</th>\n",
       "      <th>Prefix</th>\n",
       "      <th>Age_Cat</th>\n",
       "      <th>Fare_Cat</th>\n",
       "      <th>Family</th>\n",
       "      <th>Family_Size</th>\n",
       "    </tr>\n",
       "    <tr>\n",
       "      <th>PassengerId</th>\n",
       "      <th></th>\n",
       "      <th></th>\n",
       "      <th></th>\n",
       "      <th></th>\n",
       "      <th></th>\n",
       "      <th></th>\n",
       "      <th></th>\n",
       "      <th></th>\n",
       "      <th></th>\n",
       "      <th></th>\n",
       "      <th></th>\n",
       "    </tr>\n",
       "  </thead>\n",
       "  <tbody>\n",
       "    <tr>\n",
       "      <th>1</th>\n",
       "      <td>3</td>\n",
       "      <td>male</td>\n",
       "      <td>22.0</td>\n",
       "      <td>A/5 21171</td>\n",
       "      <td>7.2500</td>\n",
       "      <td>S</td>\n",
       "      <td>known</td>\n",
       "      <td>young</td>\n",
       "      <td>low</td>\n",
       "      <td>1</td>\n",
       "      <td>medium</td>\n",
       "    </tr>\n",
       "    <tr>\n",
       "      <th>2</th>\n",
       "      <td>1</td>\n",
       "      <td>female</td>\n",
       "      <td>38.0</td>\n",
       "      <td>PC 17599</td>\n",
       "      <td>71.2833</td>\n",
       "      <td>C</td>\n",
       "      <td>known</td>\n",
       "      <td>young</td>\n",
       "      <td>very_high</td>\n",
       "      <td>1</td>\n",
       "      <td>medium</td>\n",
       "    </tr>\n",
       "  </tbody>\n",
       "</table>\n",
       "</div>"
      ],
      "text/plain": [
       "             Pclass     Sex   Age     Ticket     Fare Embarked Prefix Age_Cat  \\\n",
       "PassengerId                                                                     \n",
       "1                 3    male  22.0  A/5 21171   7.2500        S  known   young   \n",
       "2                 1  female  38.0   PC 17599  71.2833        C  known   young   \n",
       "\n",
       "              Fare_Cat  Family Family_Size  \n",
       "PassengerId                                 \n",
       "1                  low       1      medium  \n",
       "2            very_high       1      medium  "
      ]
     },
     "execution_count": 92,
     "metadata": {},
     "output_type": "execute_result"
    }
   ],
   "source": [
    "X.head(2)"
   ]
  },
  {
   "cell_type": "code",
   "execution_count": 93,
   "id": "457407ae",
   "metadata": {
    "execution": {
     "iopub.execute_input": "2022-10-17T13:50:22.361881Z",
     "iopub.status.busy": "2022-10-17T13:50:22.361471Z",
     "iopub.status.idle": "2022-10-17T13:50:22.379581Z",
     "shell.execute_reply": "2022-10-17T13:50:22.378490Z"
    },
    "papermill": {
     "duration": 0.052056,
     "end_time": "2022-10-17T13:50:22.381948",
     "exception": false,
     "start_time": "2022-10-17T13:50:22.329892",
     "status": "completed"
    },
    "tags": []
   },
   "outputs": [
    {
     "data": {
      "text/html": [
       "<div>\n",
       "<style scoped>\n",
       "    .dataframe tbody tr th:only-of-type {\n",
       "        vertical-align: middle;\n",
       "    }\n",
       "\n",
       "    .dataframe tbody tr th {\n",
       "        vertical-align: top;\n",
       "    }\n",
       "\n",
       "    .dataframe thead th {\n",
       "        text-align: right;\n",
       "    }\n",
       "</style>\n",
       "<table border=\"1\" class=\"dataframe\">\n",
       "  <thead>\n",
       "    <tr style=\"text-align: right;\">\n",
       "      <th></th>\n",
       "      <th>Pclass</th>\n",
       "      <th>Sex</th>\n",
       "      <th>Age</th>\n",
       "      <th>Ticket</th>\n",
       "      <th>Fare</th>\n",
       "      <th>Embarked</th>\n",
       "      <th>Prefix</th>\n",
       "      <th>Age_Cat</th>\n",
       "      <th>Fare_Cat</th>\n",
       "      <th>Family</th>\n",
       "      <th>Family_Size</th>\n",
       "    </tr>\n",
       "    <tr>\n",
       "      <th>PassengerId</th>\n",
       "      <th></th>\n",
       "      <th></th>\n",
       "      <th></th>\n",
       "      <th></th>\n",
       "      <th></th>\n",
       "      <th></th>\n",
       "      <th></th>\n",
       "      <th></th>\n",
       "      <th></th>\n",
       "      <th></th>\n",
       "      <th></th>\n",
       "    </tr>\n",
       "  </thead>\n",
       "  <tbody>\n",
       "    <tr>\n",
       "      <th>892</th>\n",
       "      <td>3</td>\n",
       "      <td>male</td>\n",
       "      <td>34.5</td>\n",
       "      <td>330911</td>\n",
       "      <td>7.8292</td>\n",
       "      <td>Q</td>\n",
       "      <td>known</td>\n",
       "      <td>young</td>\n",
       "      <td>low</td>\n",
       "      <td>0</td>\n",
       "      <td>alone</td>\n",
       "    </tr>\n",
       "    <tr>\n",
       "      <th>893</th>\n",
       "      <td>3</td>\n",
       "      <td>female</td>\n",
       "      <td>47.0</td>\n",
       "      <td>363272</td>\n",
       "      <td>7.0000</td>\n",
       "      <td>S</td>\n",
       "      <td>known</td>\n",
       "      <td>adult</td>\n",
       "      <td>low</td>\n",
       "      <td>1</td>\n",
       "      <td>medium</td>\n",
       "    </tr>\n",
       "  </tbody>\n",
       "</table>\n",
       "</div>"
      ],
      "text/plain": [
       "             Pclass     Sex   Age  Ticket    Fare Embarked Prefix Age_Cat  \\\n",
       "PassengerId                                                                 \n",
       "892               3    male  34.5  330911  7.8292        Q  known   young   \n",
       "893               3  female  47.0  363272  7.0000        S  known   adult   \n",
       "\n",
       "            Fare_Cat  Family Family_Size  \n",
       "PassengerId                               \n",
       "892              low       0       alone  \n",
       "893              low       1      medium  "
      ]
     },
     "execution_count": 93,
     "metadata": {},
     "output_type": "execute_result"
    }
   ],
   "source": [
    "X_test.head(2)"
   ]
  },
  {
   "cell_type": "markdown",
   "id": "081c505a",
   "metadata": {
    "papermill": {
     "duration": 0.03059,
     "end_time": "2022-10-17T13:50:22.443080",
     "exception": false,
     "start_time": "2022-10-17T13:50:22.412490",
     "status": "completed"
    },
    "tags": []
   },
   "source": [
    "## Data Visualization of Created Categories"
   ]
  },
  {
   "cell_type": "code",
   "execution_count": 94,
   "id": "ec52a15d",
   "metadata": {
    "execution": {
     "iopub.execute_input": "2022-10-17T13:50:22.504148Z",
     "iopub.status.busy": "2022-10-17T13:50:22.503714Z",
     "iopub.status.idle": "2022-10-17T13:50:22.511112Z",
     "shell.execute_reply": "2022-10-17T13:50:22.509731Z"
    },
    "papermill": {
     "duration": 0.041394,
     "end_time": "2022-10-17T13:50:22.513668",
     "exception": false,
     "start_time": "2022-10-17T13:50:22.472274",
     "status": "completed"
    },
    "tags": []
   },
   "outputs": [],
   "source": [
    "# Concatenating X and y for Data Visualization purpose\n",
    "Xy = X.copy()\n",
    "Xy['Survived'] = y.copy()"
   ]
  },
  {
   "cell_type": "code",
   "execution_count": 95,
   "id": "ccccec6d",
   "metadata": {
    "execution": {
     "iopub.execute_input": "2022-10-17T13:50:22.576697Z",
     "iopub.status.busy": "2022-10-17T13:50:22.576297Z",
     "iopub.status.idle": "2022-10-17T13:50:22.583271Z",
     "shell.execute_reply": "2022-10-17T13:50:22.582076Z"
    },
    "papermill": {
     "duration": 0.041184,
     "end_time": "2022-10-17T13:50:22.585608",
     "exception": false,
     "start_time": "2022-10-17T13:50:22.544424",
     "status": "completed"
    },
    "tags": []
   },
   "outputs": [],
   "source": [
    "# Making matplotlib parameters default\n",
    "plt.rcParams.update(plt.rcParamsDefault)"
   ]
  },
  {
   "cell_type": "code",
   "execution_count": 96,
   "id": "864cc9ee",
   "metadata": {
    "execution": {
     "iopub.execute_input": "2022-10-17T13:50:22.647768Z",
     "iopub.status.busy": "2022-10-17T13:50:22.647361Z",
     "iopub.status.idle": "2022-10-17T13:50:23.891369Z",
     "shell.execute_reply": "2022-10-17T13:50:23.890103Z"
    },
    "papermill": {
     "duration": 1.279089,
     "end_time": "2022-10-17T13:50:23.895281",
     "exception": false,
     "start_time": "2022-10-17T13:50:22.616192",
     "status": "completed"
    },
    "tags": []
   },
   "outputs": [
    {
     "data": {
      "image/png": "[encoded data removed]",
      "text/plain": [
       "<Figure size 896x672 with 6 Axes>"
      ]
     },
     "metadata": {},
     "output_type": "display_data"
    }
   ],
   "source": [
    "l=['Pclass','Sex','Age_Cat','Fare_Cat','Embarked','Family_Size']\n",
    "figure, axes = plt.subplots(nrows=2, ncols=3, sharey=True, sharex=False, dpi=140)\n",
    "index = 0\n",
    "axes = axes.flatten()\n",
    "for axis in axes:\n",
    "    sns.countplot(x = l[index], hue = \"Survived\", data = Xy, ax=axis)\n",
    "    axis.set_title(l[index]+' vs Survived')\n",
    "    index = index+1\n",
    "    plt.tight_layout()\n",
    "    for tick in axis.get_xticklabels():\n",
    "        tick.set_rotation(45)\n",
    "plt.show()"
   ]
  },
  {
   "cell_type": "markdown",
   "id": "dab9b28c",
   "metadata": {
    "papermill": {
     "duration": 0.031872,
     "end_time": "2022-10-17T13:50:23.958916",
     "exception": false,
     "start_time": "2022-10-17T13:50:23.927044",
     "status": "completed"
    },
    "tags": []
   },
   "source": [
    "### Insights: \n",
    "In each of the plots for feature vs target, we can see one category has more chance of survival than other categories as count of survived=1 is more than survived=0:\n",
    "* Pclass - 1\n",
    "* Sex - female\n",
    "* Age_Cat - 0\n",
    "* Fare_Cat - 3\n",
    "* Embarked - C\n",
    "* Family_Size - 1"
   ]
  },
  {
   "cell_type": "markdown",
   "id": "cd647e04",
   "metadata": {
    "papermill": {
     "duration": 0.031881,
     "end_time": "2022-10-17T13:50:24.023682",
     "exception": false,
     "start_time": "2022-10-17T13:50:23.991801",
     "status": "completed"
    },
    "tags": []
   },
   "source": [
    "# 7) Feature Selection"
   ]
  },
  {
   "cell_type": "code",
   "execution_count": 97,
   "id": "36bda1e9",
   "metadata": {
    "execution": {
     "iopub.execute_input": "2022-10-17T13:50:24.090969Z",
     "iopub.status.busy": "2022-10-17T13:50:24.090087Z",
     "iopub.status.idle": "2022-10-17T13:50:24.097792Z",
     "shell.execute_reply": "2022-10-17T13:50:24.096857Z"
    },
    "papermill": {
     "duration": 0.045231,
     "end_time": "2022-10-17T13:50:24.100201",
     "exception": false,
     "start_time": "2022-10-17T13:50:24.054970",
     "status": "completed"
    },
    "tags": []
   },
   "outputs": [
    {
     "data": {
      "text/plain": [
       "Index(['Pclass', 'Sex', 'Age', 'Ticket', 'Fare', 'Embarked', 'Prefix',\n",
       "       'Age_Cat', 'Fare_Cat', 'Family', 'Family_Size'],\n",
       "      dtype='object')"
      ]
     },
     "execution_count": 97,
     "metadata": {},
     "output_type": "execute_result"
    }
   ],
   "source": [
    "# Columns to choose from for model training and prediction\n",
    "X.columns"
   ]
  },
  {
   "cell_type": "code",
   "execution_count": 98,
   "id": "e667b3f8",
   "metadata": {
    "execution": {
     "iopub.execute_input": "2022-10-17T13:50:24.165168Z",
     "iopub.status.busy": "2022-10-17T13:50:24.164361Z",
     "iopub.status.idle": "2022-10-17T13:50:24.171920Z",
     "shell.execute_reply": "2022-10-17T13:50:24.170921Z"
    },
    "papermill": {
     "duration": 0.043189,
     "end_time": "2022-10-17T13:50:24.174734",
     "exception": false,
     "start_time": "2022-10-17T13:50:24.131545",
     "status": "completed"
    },
    "tags": []
   },
   "outputs": [],
   "source": [
    "# We used Categorical columns Age_Cat, Fare_Cat, Family_Size for visualizations only.\n",
    "# Select columns for classification model\n",
    "X = X[['Age', 'Pclass', 'Sex', 'Family_Size']]\n",
    "X_test = X_test[[ 'Age', 'Pclass', 'Sex', 'Family_Size']]"
   ]
  },
  {
   "cell_type": "code",
   "execution_count": 99,
   "id": "e81d8e46",
   "metadata": {
    "execution": {
     "iopub.execute_input": "2022-10-17T13:50:24.240415Z",
     "iopub.status.busy": "2022-10-17T13:50:24.240017Z",
     "iopub.status.idle": "2022-10-17T13:50:24.245699Z",
     "shell.execute_reply": "2022-10-17T13:50:24.244486Z"
    },
    "papermill": {
     "duration": 0.040952,
     "end_time": "2022-10-17T13:50:24.248074",
     "exception": false,
     "start_time": "2022-10-17T13:50:24.207122",
     "status": "completed"
    },
    "tags": []
   },
   "outputs": [],
   "source": [
    "# Select numerical columns\n",
    "numerical_cols = [cname for cname in X.columns \n",
    "                  if X[cname].dtype in ['int64', 'float64']]"
   ]
  },
  {
   "cell_type": "code",
   "execution_count": 100,
   "id": "0bf19cda",
   "metadata": {
    "execution": {
     "iopub.execute_input": "2022-10-17T13:50:24.311631Z",
     "iopub.status.busy": "2022-10-17T13:50:24.311233Z",
     "iopub.status.idle": "2022-10-17T13:50:24.319398Z",
     "shell.execute_reply": "2022-10-17T13:50:24.318197Z"
    },
    "papermill": {
     "duration": 0.042909,
     "end_time": "2022-10-17T13:50:24.321787",
     "exception": false,
     "start_time": "2022-10-17T13:50:24.278878",
     "status": "completed"
    },
    "tags": []
   },
   "outputs": [],
   "source": [
    "# Select categorical columns with low cardinality (number of unique values in a column)\n",
    "categorical_cols = [cname for cname in X.columns \n",
    "                    if X[cname].nunique() < 10 and\n",
    "                    X[cname].dtype in [\"object\",\"category\"]]"
   ]
  },
  {
   "cell_type": "code",
   "execution_count": 101,
   "id": "5f2169f6",
   "metadata": {
    "execution": {
     "iopub.execute_input": "2022-10-17T13:50:24.387774Z",
     "iopub.status.busy": "2022-10-17T13:50:24.386469Z",
     "iopub.status.idle": "2022-10-17T13:50:24.393764Z",
     "shell.execute_reply": "2022-10-17T13:50:24.392850Z"
    },
    "papermill": {
     "duration": 0.042914,
     "end_time": "2022-10-17T13:50:24.396241",
     "exception": false,
     "start_time": "2022-10-17T13:50:24.353327",
     "status": "completed"
    },
    "tags": []
   },
   "outputs": [],
   "source": [
    "# Keep selected columns only\n",
    "my_cols = numerical_cols + categorical_cols\n",
    "X = X[my_cols]\n",
    "X_test = X_test[my_cols]"
   ]
  },
  {
   "cell_type": "markdown",
   "id": "bf7d5bb6",
   "metadata": {
    "papermill": {
     "duration": 0.031117,
     "end_time": "2022-10-17T13:50:24.457714",
     "exception": false,
     "start_time": "2022-10-17T13:50:24.426597",
     "status": "completed"
    },
    "tags": []
   },
   "source": [
    "## Final X and X_test on which regression model will be trained"
   ]
  },
  {
   "cell_type": "code",
   "execution_count": 102,
   "id": "9986371f",
   "metadata": {
    "execution": {
     "iopub.execute_input": "2022-10-17T13:50:24.523013Z",
     "iopub.status.busy": "2022-10-17T13:50:24.522305Z",
     "iopub.status.idle": "2022-10-17T13:50:24.528338Z",
     "shell.execute_reply": "2022-10-17T13:50:24.526886Z"
    },
    "papermill": {
     "duration": 0.041706,
     "end_time": "2022-10-17T13:50:24.530724",
     "exception": false,
     "start_time": "2022-10-17T13:50:24.489018",
     "status": "completed"
    },
    "tags": []
   },
   "outputs": [
    {
     "name": "stdout",
     "output_type": "stream",
     "text": [
      "2 2\n"
     ]
    }
   ],
   "source": [
    "print(len(categorical_cols),len(numerical_cols))"
   ]
  },
  {
   "cell_type": "code",
   "execution_count": 103,
   "id": "3aa9cf07",
   "metadata": {
    "execution": {
     "iopub.execute_input": "2022-10-17T13:50:24.595830Z",
     "iopub.status.busy": "2022-10-17T13:50:24.595378Z",
     "iopub.status.idle": "2022-10-17T13:50:24.609021Z",
     "shell.execute_reply": "2022-10-17T13:50:24.607824Z"
    },
    "papermill": {
     "duration": 0.049761,
     "end_time": "2022-10-17T13:50:24.611540",
     "exception": false,
     "start_time": "2022-10-17T13:50:24.561779",
     "status": "completed"
    },
    "tags": []
   },
   "outputs": [
    {
     "data": {
      "text/html": [
       "<div>\n",
       "<style scoped>\n",
       "    .dataframe tbody tr th:only-of-type {\n",
       "        vertical-align: middle;\n",
       "    }\n",
       "\n",
       "    .dataframe tbody tr th {\n",
       "        vertical-align: top;\n",
       "    }\n",
       "\n",
       "    .dataframe thead th {\n",
       "        text-align: right;\n",
       "    }\n",
       "</style>\n",
       "<table border=\"1\" class=\"dataframe\">\n",
       "  <thead>\n",
       "    <tr style=\"text-align: right;\">\n",
       "      <th></th>\n",
       "      <th>Age</th>\n",
       "      <th>Pclass</th>\n",
       "      <th>Sex</th>\n",
       "      <th>Family_Size</th>\n",
       "    </tr>\n",
       "    <tr>\n",
       "      <th>PassengerId</th>\n",
       "      <th></th>\n",
       "      <th></th>\n",
       "      <th></th>\n",
       "      <th></th>\n",
       "    </tr>\n",
       "  </thead>\n",
       "  <tbody>\n",
       "    <tr>\n",
       "      <th>892</th>\n",
       "      <td>34.5</td>\n",
       "      <td>3</td>\n",
       "      <td>male</td>\n",
       "      <td>alone</td>\n",
       "    </tr>\n",
       "    <tr>\n",
       "      <th>893</th>\n",
       "      <td>47.0</td>\n",
       "      <td>3</td>\n",
       "      <td>female</td>\n",
       "      <td>medium</td>\n",
       "    </tr>\n",
       "  </tbody>\n",
       "</table>\n",
       "</div>"
      ],
      "text/plain": [
       "              Age  Pclass     Sex Family_Size\n",
       "PassengerId                                  \n",
       "892          34.5       3    male       alone\n",
       "893          47.0       3  female      medium"
      ]
     },
     "execution_count": 103,
     "metadata": {},
     "output_type": "execute_result"
    }
   ],
   "source": [
    "X_test.head(2)"
   ]
  },
  {
   "cell_type": "code",
   "execution_count": 104,
   "id": "6e6d0292",
   "metadata": {
    "execution": {
     "iopub.execute_input": "2022-10-17T13:50:24.676152Z",
     "iopub.status.busy": "2022-10-17T13:50:24.675358Z",
     "iopub.status.idle": "2022-10-17T13:50:24.699689Z",
     "shell.execute_reply": "2022-10-17T13:50:24.698404Z"
    },
    "papermill": {
     "duration": 0.059089,
     "end_time": "2022-10-17T13:50:24.702238",
     "exception": false,
     "start_time": "2022-10-17T13:50:24.643149",
     "status": "completed"
    },
    "tags": []
   },
   "outputs": [
    {
     "name": "stdout",
     "output_type": "stream",
     "text": [
      "Number of Columns with different Data Types:\n",
      "\n",
      "     X  X_test\n",
      "0  NaN       1\n",
      "1  NaN       1\n",
      "2  NaN       1\n",
      "3  NaN       1 \n",
      "\n"
     ]
    },
    {
     "data": {
      "text/html": [
       "<div>\n",
       "<style scoped>\n",
       "    .dataframe tbody tr th:only-of-type {\n",
       "        vertical-align: middle;\n",
       "    }\n",
       "\n",
       "    .dataframe tbody tr th {\n",
       "        vertical-align: top;\n",
       "    }\n",
       "\n",
       "    .dataframe thead th {\n",
       "        text-align: right;\n",
       "    }\n",
       "</style>\n",
       "<table border=\"1\" class=\"dataframe\">\n",
       "  <thead>\n",
       "    <tr style=\"text-align: right;\">\n",
       "      <th></th>\n",
       "      <th>Dtype</th>\n",
       "      <th>Unique_X</th>\n",
       "      <th>Unique_X_test</th>\n",
       "      <th>Null_X</th>\n",
       "      <th>Null_X_test</th>\n",
       "    </tr>\n",
       "  </thead>\n",
       "  <tbody>\n",
       "    <tr>\n",
       "      <th>Age</th>\n",
       "      <td>float64</td>\n",
       "      <td>88</td>\n",
       "      <td>79</td>\n",
       "      <td>0</td>\n",
       "      <td>0</td>\n",
       "    </tr>\n",
       "    <tr>\n",
       "      <th>Pclass</th>\n",
       "      <td>int64</td>\n",
       "      <td>3</td>\n",
       "      <td>3</td>\n",
       "      <td>0</td>\n",
       "      <td>0</td>\n",
       "    </tr>\n",
       "    <tr>\n",
       "      <th>Sex</th>\n",
       "      <td>object</td>\n",
       "      <td>2</td>\n",
       "      <td>2</td>\n",
       "      <td>0</td>\n",
       "      <td>0</td>\n",
       "    </tr>\n",
       "    <tr>\n",
       "      <th>Family_Size</th>\n",
       "      <td>category</td>\n",
       "      <td>3</td>\n",
       "      <td>3</td>\n",
       "      <td>0</td>\n",
       "      <td>0</td>\n",
       "    </tr>\n",
       "  </tbody>\n",
       "</table>\n",
       "</div>"
      ],
      "text/plain": [
       "                Dtype  Unique_X  Unique_X_test  Null_X  Null_X_test\n",
       "Age           float64        88             79       0            0\n",
       "Pclass          int64         3              3       0            0\n",
       "Sex            object         2              2       0            0\n",
       "Family_Size  category         3              3       0            0"
      ]
     },
     "execution_count": 104,
     "metadata": {},
     "output_type": "execute_result"
    }
   ],
   "source": [
    "show_info(X,X_test)"
   ]
  },
  {
   "cell_type": "markdown",
   "id": "956bf6ea",
   "metadata": {
    "papermill": {
     "duration": 0.032017,
     "end_time": "2022-10-17T13:50:24.767583",
     "exception": false,
     "start_time": "2022-10-17T13:50:24.735566",
     "status": "completed"
    },
    "tags": []
   },
   "source": [
    "# 8) Model Creation"
   ]
  },
  {
   "cell_type": "markdown",
   "id": "2d70644d",
   "metadata": {
    "papermill": {
     "duration": 0.032695,
     "end_time": "2022-10-17T13:50:24.833920",
     "exception": false,
     "start_time": "2022-10-17T13:50:24.801225",
     "status": "completed"
    },
    "tags": []
   },
   "source": [
    "## Preprocessing Pipelines"
   ]
  },
  {
   "cell_type": "code",
   "execution_count": 105,
   "id": "cd4249f7",
   "metadata": {
    "execution": {
     "iopub.execute_input": "2022-10-17T13:50:24.900251Z",
     "iopub.status.busy": "2022-10-17T13:50:24.899632Z",
     "iopub.status.idle": "2022-10-17T13:50:24.905774Z",
     "shell.execute_reply": "2022-10-17T13:50:24.904443Z"
    },
    "papermill": {
     "duration": 0.042886,
     "end_time": "2022-10-17T13:50:24.909238",
     "exception": false,
     "start_time": "2022-10-17T13:50:24.866352",
     "status": "completed"
    },
    "tags": []
   },
   "outputs": [],
   "source": [
    "# Preprocessing for numerical data\n",
    "numerical_transformer = SimpleImputer(strategy='median')"
   ]
  },
  {
   "cell_type": "code",
   "execution_count": 106,
   "id": "275ef7ed",
   "metadata": {
    "execution": {
     "iopub.execute_input": "2022-10-17T13:50:24.975630Z",
     "iopub.status.busy": "2022-10-17T13:50:24.974845Z",
     "iopub.status.idle": "2022-10-17T13:50:24.981204Z",
     "shell.execute_reply": "2022-10-17T13:50:24.979993Z"
    },
    "papermill": {
     "duration": 0.043173,
     "end_time": "2022-10-17T13:50:24.984439",
     "exception": false,
     "start_time": "2022-10-17T13:50:24.941266",
     "status": "completed"
    },
    "tags": []
   },
   "outputs": [],
   "source": [
    "# Preprocessing for categorical data\n",
    "categorical_transformer = Pipeline(steps=[\n",
    "    ('imputer', SimpleImputer(strategy='most_frequent')),\n",
    "    ('onehot', OneHotEncoder(handle_unknown='ignore'))\n",
    "])"
   ]
  },
  {
   "cell_type": "code",
   "execution_count": 107,
   "id": "16ab71ff",
   "metadata": {
    "execution": {
     "iopub.execute_input": "2022-10-17T13:50:25.055404Z",
     "iopub.status.busy": "2022-10-17T13:50:25.054614Z",
     "iopub.status.idle": "2022-10-17T13:50:25.060298Z",
     "shell.execute_reply": "2022-10-17T13:50:25.059342Z"
    },
    "papermill": {
     "duration": 0.044225,
     "end_time": "2022-10-17T13:50:25.062964",
     "exception": false,
     "start_time": "2022-10-17T13:50:25.018739",
     "status": "completed"
    },
    "tags": []
   },
   "outputs": [],
   "source": [
    "# Bundle preprocessing for numerical and categorical data\n",
    "preprocessor = ColumnTransformer(\n",
    "    transformers=[\n",
    "        ('num', numerical_transformer, numerical_cols),\n",
    "        ('cat', categorical_transformer, categorical_cols)\n",
    "    ])"
   ]
  },
  {
   "cell_type": "markdown",
   "id": "1ac30602",
   "metadata": {
    "papermill": {
     "duration": 0.032191,
     "end_time": "2022-10-17T13:50:25.127928",
     "exception": false,
     "start_time": "2022-10-17T13:50:25.095737",
     "status": "completed"
    },
    "tags": []
   },
   "source": [
    "## Model Pipeline"
   ]
  },
  {
   "cell_type": "code",
   "execution_count": 108,
   "id": "de828a2e",
   "metadata": {
    "execution": {
     "iopub.execute_input": "2022-10-17T13:50:25.195932Z",
     "iopub.status.busy": "2022-10-17T13:50:25.195105Z",
     "iopub.status.idle": "2022-10-17T13:50:25.201531Z",
     "shell.execute_reply": "2022-10-17T13:50:25.200360Z"
    },
    "papermill": {
     "duration": 0.043759,
     "end_time": "2022-10-17T13:50:25.204351",
     "exception": false,
     "start_time": "2022-10-17T13:50:25.160592",
     "status": "completed"
    },
    "tags": []
   },
   "outputs": [],
   "source": [
    "# Create object of XGBClassifier class\n",
    "xgb = XGBClassifier()\n",
    "\n",
    "# Bundle preprocessing and modeling code in a pipeline\n",
    "classifier = Pipeline(steps=[('preprocessor', preprocessor),\n",
    "                      ('model', xgb)\n",
    "                     ])"
   ]
  },
  {
   "cell_type": "markdown",
   "id": "11652438",
   "metadata": {
    "papermill": {
     "duration": 0.031871,
     "end_time": "2022-10-17T13:50:25.267656",
     "exception": false,
     "start_time": "2022-10-17T13:50:25.235785",
     "status": "completed"
    },
    "tags": []
   },
   "source": [
    "## Visualize the pipeline"
   ]
  },
  {
   "cell_type": "code",
   "execution_count": 109,
   "id": "b25351ac",
   "metadata": {
    "execution": {
     "iopub.execute_input": "2022-10-17T13:50:25.332579Z",
     "iopub.status.busy": "2022-10-17T13:50:25.331783Z",
     "iopub.status.idle": "2022-10-17T13:50:25.400738Z",
     "shell.execute_reply": "2022-10-17T13:50:25.399568Z"
    },
    "papermill": {
     "duration": 0.103842,
     "end_time": "2022-10-17T13:50:25.403228",
     "exception": false,
     "start_time": "2022-10-17T13:50:25.299386",
     "status": "completed"
    },
    "tags": []
   },
   "outputs": [
    {
     "data": {
      "text/html": [
       "<style>#sk-container-id-1 {\n",
       "  /* Definition of color scheme common for light and dark mode */\n",
       "  --sklearn-color-text: black;\n",
       "  --sklearn-color-line: gray;\n",
       "  /* Definition of color scheme for unfitted estimators */\n",
       "  --sklearn-color-unfitted-level-0: #fff5e6;\n",
       "  --sklearn-color-unfitted-level-1: #f6e4d2;\n",
       "  --sklearn-color-unfitted-level-2: #ffe0b3;\n",
       "  --sklearn-color-unfitted-level-3: chocolate;\n",
       "  /* Definition of color scheme for fitted estimators */\n",
       "  --sklearn-color-fitted-level-0: #f0f8ff;\n",
       "  --sklearn-color-fitted-level-1: #d4ebff;\n",
       "  --sklearn-color-fitted-level-2: #b3dbfd;\n",
       "  --sklearn-color-fitted-level-3: cornflowerblue;\n",
       "\n",
       "  /* Specific color for light theme */\n",
       "  --sklearn-color-text-on-default-background: var(--sg-text-color, var(--theme-code-foreground, var(--jp-content-font-color1, black)));\n",
       "  --sklearn-color-background: var(--sg-background-color, var(--theme-background, var(--jp-layout-color0, white)));\n",
       "  --sklearn-color-border-box: var(--sg-text-color, var(--theme-code-foreground, var(--jp-content-font-color1, black)));\n",
       "  --sklearn-color-icon: #696969;\n",
       "\n",
       "  @media (prefers-color-scheme: dark) {\n",
       "    /* Redefinition of color scheme for dark theme */\n",
       "    --sklearn-color-text-on-default-background: var(--sg-text-color, var(--theme-code-foreground, var(--jp-content-font-color1, white)));\n",
       "    --sklearn-color-background: var(--sg-background-color, var(--theme-background, var(--jp-layout-color0, #111)));\n",
       "    --sklearn-color-border-box: var(--sg-text-color, var(--theme-code-foreground, var(--jp-content-font-color1, white)));\n",
       "    --sklearn-color-icon: #878787;\n",
       "  }\n",
       "}\n",
       "\n",
       "#sk-container-id-1 {\n",
       "  color: var(--sklearn-color-text);\n",
       "}\n",
       "\n",
       "#sk-container-id-1 pre {\n",
       "  padding: 0;\n",
       "}\n",
       "\n",
       "#sk-container-id-1 input.sk-hidden--visually {\n",
       "  border: 0;\n",
       "  clip: rect(1px 1px 1px 1px);\n",
       "  clip: rect(1px, 1px, 1px, 1px);\n",
       "  height: 1px;\n",
       "  margin: -1px;\n",
       "  overflow: hidden;\n",
       "  padding: 0;\n",
       "  position: absolute;\n",
       "  width: 1px;\n",
       "}\n",
       "\n",
       "#sk-container-id-1 div.sk-dashed-wrapped {\n",
       "  border: 1px dashed var(--sklearn-color-line);\n",
       "  margin: 0 0.4em 0.5em 0.4em;\n",
       "  box-sizing: border-box;\n",
       "  padding-bottom: 0.4em;\n",
       "  background-color: var(--sklearn-color-background);\n",
       "}\n",
       "\n",
       "#sk-container-id-1 div.sk-container {\n",
       "  /* jupyter's `normalize.less` sets `[hidden] { display: none; }`\n",
       "     but bootstrap.min.css set `[hidden] { display: none !important; }`\n",
       "     so we also need the `!important` here to be able to override the\n",
       "     default hidden behavior on the sphinx rendered scikit-learn.org.\n",
       "     See: https://github.com/scikit-learn/scikit-learn/issues/21755 */\n",
       "  display: inline-block !important;\n",
       "  position: relative;\n",
       "}\n",
       "\n",
       "#sk-container-id-1 div.sk-text-repr-fallback {\n",
       "  display: none;\n",
       "}\n",
       "\n",
       "div.sk-parallel-item,\n",
       "div.sk-serial,\n",
       "div.sk-item {\n",
       "  /* draw centered vertical line to link estimators */\n",
       "  background-image: linear-gradient(var(--sklearn-color-text-on-default-background), var(--sklearn-color-text-on-default-background));\n",
       "  background-size: 2px 100%;\n",
       "  background-repeat: no-repeat;\n",
       "  background-position: center center;\n",
       "}\n",
       "\n",
       "/* Parallel-specific style estimator block */\n",
       "\n",
       "#sk-container-id-1 div.sk-parallel-item::after {\n",
       "  content: \"\";\n",
       "  width: 100%;\n",
       "  border-bottom: 2px solid var(--sklearn-color-text-on-default-background);\n",
       "  flex-grow: 1;\n",
       "}\n",
       "\n",
       "#sk-container-id-1 div.sk-parallel {\n",
       "  display: flex;\n",
       "  align-items: stretch;\n",
       "  justify-content: center;\n",
       "  background-color: var(--sklearn-color-background);\n",
       "  position: relative;\n",
       "}\n",
       "\n",
       "#sk-container-id-1 div.sk-parallel-item {\n",
       "  display: flex;\n",
       "  flex-direction: column;\n",
       "}\n",
       "\n",
       "#sk-container-id-1 div.sk-parallel-item:first-child::after {\n",
       "  align-self: flex-end;\n",
       "  width: 50%;\n",
       "}\n",
       "\n",
       "#sk-container-id-1 div.sk-parallel-item:last-child::after {\n",
       "  align-self: flex-start;\n",
       "  width: 50%;\n",
       "}\n",
       "\n",
       "#sk-container-id-1 div.sk-parallel-item:only-child::after {\n",
       "  width: 0;\n",
       "}\n",
       "\n",
       "/* Serial-specific style estimator block */\n",
       "\n",
       "#sk-container-id-1 div.sk-serial {\n",
       "  display: flex;\n",
       "  flex-direction: column;\n",
       "  align-items: center;\n",
       "  background-color: var(--sklearn-color-background);\n",
       "  padding-right: 1em;\n",
       "  padding-left: 1em;\n",
       "}\n",
       "\n",
       "\n",
       "/* Toggleable style: style used for estimator/Pipeline/ColumnTransformer box that is\n",
       "clickable and can be expanded/collapsed.\n",
       "- Pipeline and ColumnTransformer use this feature and define the default style\n",
       "- Estimators will overwrite some part of the style using the `sk-estimator` class\n",
       "*/\n",
       "\n",
       "/* Pipeline and ColumnTransformer style (default) */\n",
       "\n",
       "#sk-container-id-1 div.sk-toggleable {\n",
       "  /* Default theme specific background. It is overwritten whether we have a\n",
       "  specific estimator or a Pipeline/ColumnTransformer */\n",
       "  background-color: var(--sklearn-color-background);\n",
       "}\n",
       "\n",
       "/* Toggleable label */\n",
       "#sk-container-id-1 label.sk-toggleable__label {\n",
       "  cursor: pointer;\n",
       "  display: block;\n",
       "  width: 100%;\n",
       "  margin-bottom: 0;\n",
       "  padding: 0.5em;\n",
       "  box-sizing: border-box;\n",
       "  text-align: center;\n",
       "}\n",
       "\n",
       "#sk-container-id-1 label.sk-toggleable__label-arrow:before {\n",
       "  /* Arrow on the left of the label */\n",
       "  content: \"▸\";\n",
       "  float: left;\n",
       "  margin-right: 0.25em;\n",
       "  color: var(--sklearn-color-icon);\n",
       "}\n",
       "\n",
       "#sk-container-id-1 label.sk-toggleable__label-arrow:hover:before {\n",
       "  color: var(--sklearn-color-text);\n",
       "}\n",
       "\n",
       "/* Toggleable content - dropdown */\n",
       "\n",
       "#sk-container-id-1 div.sk-toggleable__content {\n",
       "  max-height: 0;\n",
       "  max-width: 0;\n",
       "  overflow: hidden;\n",
       "  text-align: left;\n",
       "  /* unfitted */\n",
       "  background-color: var(--sklearn-color-unfitted-level-0);\n",
       "}\n",
       "\n",
       "#sk-container-id-1 div.sk-toggleable__content.fitted {\n",
       "  /* fitted */\n",
       "  background-color: var(--sklearn-color-fitted-level-0);\n",
       "}\n",
       "\n",
       "#sk-container-id-1 div.sk-toggleable__content pre {\n",
       "  margin: 0.2em;\n",
       "  border-radius: 0.25em;\n",
       "  color: var(--sklearn-color-text);\n",
       "  /* unfitted */\n",
       "  background-color: var(--sklearn-color-unfitted-level-0);\n",
       "}\n",
       "\n",
       "#sk-container-id-1 div.sk-toggleable__content.fitted pre {\n",
       "  /* unfitted */\n",
       "  background-color: var(--sklearn-color-fitted-level-0);\n",
       "}\n",
       "\n",
       "#sk-container-id-1 input.sk-toggleable__control:checked~div.sk-toggleable__content {\n",
       "  /* Expand drop-down */\n",
       "  max-height: 200px;\n",
       "  max-width: 100%;\n",
       "  overflow: auto;\n",
       "}\n",
       "\n",
       "#sk-container-id-1 input.sk-toggleable__control:checked~label.sk-toggleable__label-arrow:before {\n",
       "  content: \"▾\";\n",
       "}\n",
       "\n",
       "/* Pipeline/ColumnTransformer-specific style */\n",
       "\n",
       "#sk-container-id-1 div.sk-label input.sk-toggleable__control:checked~label.sk-toggleable__label {\n",
       "  color: var(--sklearn-color-text);\n",
       "  background-color: var(--sklearn-color-unfitted-level-2);\n",
       "}\n",
       "\n",
       "#sk-container-id-1 div.sk-label.fitted input.sk-toggleable__control:checked~label.sk-toggleable__label {\n",
       "  background-color: var(--sklearn-color-fitted-level-2);\n",
       "}\n",
       "\n",
       "/* Estimator-specific style */\n",
       "\n",
       "/* Colorize estimator box */\n",
       "#sk-container-id-1 div.sk-estimator input.sk-toggleable__control:checked~label.sk-toggleable__label {\n",
       "  /* unfitted */\n",
       "  background-color: var(--sklearn-color-unfitted-level-2);\n",
       "}\n",
       "\n",
       "#sk-container-id-1 div.sk-estimator.fitted input.sk-toggleable__control:checked~label.sk-toggleable__label {\n",
       "  /* fitted */\n",
       "  background-color: var(--sklearn-color-fitted-level-2);\n",
       "}\n",
       "\n",
       "#sk-container-id-1 div.sk-label label.sk-toggleable__label,\n",
       "#sk-container-id-1 div.sk-label label {\n",
       "  /* The background is the default theme color */\n",
       "  color: var(--sklearn-color-text-on-default-background);\n",
       "}\n",
       "\n",
       "/* On hover, darken the color of the background */\n",
       "#sk-container-id-1 div.sk-label:hover label.sk-toggleable__label {\n",
       "  color: var(--sklearn-color-text);\n",
       "  background-color: var(--sklearn-color-unfitted-level-2);\n",
       "}\n",
       "\n",
       "/* Label box, darken color on hover, fitted */\n",
       "#sk-container-id-1 div.sk-label.fitted:hover label.sk-toggleable__label.fitted {\n",
       "  color: var(--sklearn-color-text);\n",
       "  background-color: var(--sklearn-color-fitted-level-2);\n",
       "}\n",
       "\n",
       "/* Estimator label */\n",
       "\n",
       "#sk-container-id-1 div.sk-label label {\n",
       "  font-family: monospace;\n",
       "  font-weight: bold;\n",
       "  display: inline-block;\n",
       "  line-height: 1.2em;\n",
       "}\n",
       "\n",
       "#sk-container-id-1 div.sk-label-container {\n",
       "  text-align: center;\n",
       "}\n",
       "\n",
       "/* Estimator-specific */\n",
       "#sk-container-id-1 div.sk-estimator {\n",
       "  font-family: monospace;\n",
       "  border: 1px dotted var(--sklearn-color-border-box);\n",
       "  border-radius: 0.25em;\n",
       "  box-sizing: border-box;\n",
       "  margin-bottom: 0.5em;\n",
       "  /* unfitted */\n",
       "  background-color: var(--sklearn-color-unfitted-level-0);\n",
       "}\n",
       "\n",
       "#sk-container-id-1 div.sk-estimator.fitted {\n",
       "  /* fitted */\n",
       "  background-color: var(--sklearn-color-fitted-level-0);\n",
       "}\n",
       "\n",
       "/* on hover */\n",
       "#sk-container-id-1 div.sk-estimator:hover {\n",
       "  /* unfitted */\n",
       "  background-color: var(--sklearn-color-unfitted-level-2);\n",
       "}\n",
       "\n",
       "#sk-container-id-1 div.sk-estimator.fitted:hover {\n",
       "  /* fitted */\n",
       "  background-color: var(--sklearn-color-fitted-level-2);\n",
       "}\n",
       "\n",
       "/* Specification for estimator info (e.g. \"i\" and \"?\") */\n",
       "\n",
       "/* Common style for \"i\" and \"?\" */\n",
       "\n",
       ".sk-estimator-doc-link,\n",
       "a:link.sk-estimator-doc-link,\n",
       "a:visited.sk-estimator-doc-link {\n",
       "  float: right;\n",
       "  font-size: smaller;\n",
       "  line-height: 1em;\n",
       "  font-family: monospace;\n",
       "  background-color: var(--sklearn-color-background);\n",
       "  border-radius: 1em;\n",
       "  height: 1em;\n",
       "  width: 1em;\n",
       "  text-decoration: none !important;\n",
       "  margin-left: 1ex;\n",
       "  /* unfitted */\n",
       "  border: var(--sklearn-color-unfitted-level-1) 1pt solid;\n",
       "  color: var(--sklearn-color-unfitted-level-1);\n",
       "}\n",
       "\n",
       ".sk-estimator-doc-link.fitted,\n",
       "a:link.sk-estimator-doc-link.fitted,\n",
       "a:visited.sk-estimator-doc-link.fitted {\n",
       "  /* fitted */\n",
       "  border: var(--sklearn-color-fitted-level-1) 1pt solid;\n",
       "  color: var(--sklearn-color-fitted-level-1);\n",
       "}\n",
       "\n",
       "/* On hover */\n",
       "div.sk-estimator:hover .sk-estimator-doc-link:hover,\n",
       ".sk-estimator-doc-link:hover,\n",
       "div.sk-label-container:hover .sk-estimator-doc-link:hover,\n",
       ".sk-estimator-doc-link:hover {\n",
       "  /* unfitted */\n",
       "  background-color: var(--sklearn-color-unfitted-level-3);\n",
       "  color: var(--sklearn-color-background);\n",
       "  text-decoration: none;\n",
       "}\n",
       "\n",
       "div.sk-estimator.fitted:hover .sk-estimator-doc-link.fitted:hover,\n",
       ".sk-estimator-doc-link.fitted:hover,\n",
       "div.sk-label-container:hover .sk-estimator-doc-link.fitted:hover,\n",
       ".sk-estimator-doc-link.fitted:hover {\n",
       "  /* fitted */\n",
       "  background-color: var(--sklearn-color-fitted-level-3);\n",
       "  color: var(--sklearn-color-background);\n",
       "  text-decoration: none;\n",
       "}\n",
       "\n",
       "/* Span, style for the box shown on hovering the info icon */\n",
       ".sk-estimator-doc-link span {\n",
       "  display: none;\n",
       "  z-index: 9999;\n",
       "  position: relative;\n",
       "  font-weight: normal;\n",
       "  right: .2ex;\n",
       "  padding: .5ex;\n",
       "  margin: .5ex;\n",
       "  width: min-content;\n",
       "  min-width: 20ex;\n",
       "  max-width: 50ex;\n",
       "  color: var(--sklearn-color-text);\n",
       "  box-shadow: 2pt 2pt 4pt #999;\n",
       "  /* unfitted */\n",
       "  background: var(--sklearn-color-unfitted-level-0);\n",
       "  border: .5pt solid var(--sklearn-color-unfitted-level-3);\n",
       "}\n",
       "\n",
       ".sk-estimator-doc-link.fitted span {\n",
       "  /* fitted */\n",
       "  background: var(--sklearn-color-fitted-level-0);\n",
       "  border: var(--sklearn-color-fitted-level-3);\n",
       "}\n",
       "\n",
       ".sk-estimator-doc-link:hover span {\n",
       "  display: block;\n",
       "}\n",
       "\n",
       "/* \"?\"-specific style due to the `<a>` HTML tag */\n",
       "\n",
       "#sk-container-id-1 a.estimator_doc_link {\n",
       "  float: right;\n",
       "  font-size: 1rem;\n",
       "  line-height: 1em;\n",
       "  font-family: monospace;\n",
       "  background-color: var(--sklearn-color-background);\n",
       "  border-radius: 1rem;\n",
       "  height: 1rem;\n",
       "  width: 1rem;\n",
       "  text-decoration: none;\n",
       "  /* unfitted */\n",
       "  color: var(--sklearn-color-unfitted-level-1);\n",
       "  border: var(--sklearn-color-unfitted-level-1) 1pt solid;\n",
       "}\n",
       "\n",
       "#sk-container-id-1 a.estimator_doc_link.fitted {\n",
       "  /* fitted */\n",
       "  border: var(--sklearn-color-fitted-level-1) 1pt solid;\n",
       "  color: var(--sklearn-color-fitted-level-1);\n",
       "}\n",
       "\n",
       "/* On hover */\n",
       "#sk-container-id-1 a.estimator_doc_link:hover {\n",
       "  /* unfitted */\n",
       "  background-color: var(--sklearn-color-unfitted-level-3);\n",
       "  color: var(--sklearn-color-background);\n",
       "  text-decoration: none;\n",
       "}\n",
       "\n",
       "#sk-container-id-1 a.estimator_doc_link.fitted:hover {\n",
       "  /* fitted */\n",
       "  background-color: var(--sklearn-color-fitted-level-3);\n",
       "}\n",
       "</style><div id=\"sk-container-id-1\" class=\"sk-top-container\"><div class=\"sk-text-repr-fallback\"><pre>Pipeline(steps=[(&#x27;preprocessor&#x27;,\n",
       "                 ColumnTransformer(transformers=[(&#x27;num&#x27;,\n",
       "                                                  SimpleImputer(strategy=&#x27;median&#x27;),\n",
       "                                                  [&#x27;Age&#x27;, &#x27;Pclass&#x27;]),\n",
       "                                                 (&#x27;cat&#x27;,\n",
       "                                                  Pipeline(steps=[(&#x27;imputer&#x27;,\n",
       "                                                                   SimpleImputer(strategy=&#x27;most_frequent&#x27;)),\n",
       "                                                                  (&#x27;onehot&#x27;,\n",
       "                                                                   OneHotEncoder(handle_unknown=&#x27;ignore&#x27;))]),\n",
       "                                                  [&#x27;Sex&#x27;, &#x27;Family_Size&#x27;])])),\n",
       "                (&#x27;model&#x27;,\n",
       "                 XGBClassifier(base_score=None, booster=None, callbacks=None,\n",
       "                               colsampl...\n",
       "                               feature_types=None, gamma=None, grow_policy=None,\n",
       "                               importance_type=None,\n",
       "                               interaction_constraints=None, learning_rate=None,\n",
       "                               max_bin=None, max_cat_threshold=None,\n",
       "                               max_cat_to_onehot=None, max_delta_step=None,\n",
       "                               max_depth=None, max_leaves=None,\n",
       "                               min_child_weight=None, missing=nan,\n",
       "                               monotone_constraints=None, multi_strategy=None,\n",
       "                               n_estimators=None, n_jobs=None,\n",
       "                               num_parallel_tree=None, random_state=None, ...))])</pre><b>In a Jupyter environment, please rerun this cell to show the HTML representation or trust the notebook. <br />On GitHub, the HTML representation is unable to render, please try loading this page with nbviewer.org.</b></div><div class=\"sk-container\" hidden><div class=\"sk-item sk-dashed-wrapped\"><div class=\"sk-label-container\"><div class=\"sk-label  sk-toggleable\"><input class=\"sk-toggleable__control sk-hidden--visually\" id=\"sk-estimator-id-1\" type=\"checkbox\" ><label for=\"sk-estimator-id-1\" class=\"sk-toggleable__label  sk-toggleable__label-arrow \">&nbsp;&nbsp;Pipeline<a class=\"sk-estimator-doc-link \" rel=\"noreferrer\" target=\"_blank\" href=\"https://scikit-learn.org/1.5/modules/generated/sklearn.pipeline.Pipeline.html\">?<span>Documentation for Pipeline</span></a><span class=\"sk-estimator-doc-link \">i<span>Not fitted</span></span></label><div class=\"sk-toggleable__content \"><pre>Pipeline(steps=[(&#x27;preprocessor&#x27;,\n",
       "                 ColumnTransformer(transformers=[(&#x27;num&#x27;,\n",
       "                                                  SimpleImputer(strategy=&#x27;median&#x27;),\n",
       "                                                  [&#x27;Age&#x27;, &#x27;Pclass&#x27;]),\n",
       "                                                 (&#x27;cat&#x27;,\n",
       "                                                  Pipeline(steps=[(&#x27;imputer&#x27;,\n",
       "                                                                   SimpleImputer(strategy=&#x27;most_frequent&#x27;)),\n",
       "                                                                  (&#x27;onehot&#x27;,\n",
       "                                                                   OneHotEncoder(handle_unknown=&#x27;ignore&#x27;))]),\n",
       "                                                  [&#x27;Sex&#x27;, &#x27;Family_Size&#x27;])])),\n",
       "                (&#x27;model&#x27;,\n",
       "                 XGBClassifier(base_score=None, booster=None, callbacks=None,\n",
       "                               colsampl...\n",
       "                               feature_types=None, gamma=None, grow_policy=None,\n",
       "                               importance_type=None,\n",
       "                               interaction_constraints=None, learning_rate=None,\n",
       "                               max_bin=None, max_cat_threshold=None,\n",
       "                               max_cat_to_onehot=None, max_delta_step=None,\n",
       "                               max_depth=None, max_leaves=None,\n",
       "                               min_child_weight=None, missing=nan,\n",
       "                               monotone_constraints=None, multi_strategy=None,\n",
       "                               n_estimators=None, n_jobs=None,\n",
       "                               num_parallel_tree=None, random_state=None, ...))])</pre></div> </div></div><div class=\"sk-serial\"><div class=\"sk-item sk-dashed-wrapped\"><div class=\"sk-label-container\"><div class=\"sk-label  sk-toggleable\"><input class=\"sk-toggleable__control sk-hidden--visually\" id=\"sk-estimator-id-2\" type=\"checkbox\" ><label for=\"sk-estimator-id-2\" class=\"sk-toggleable__label  sk-toggleable__label-arrow \">&nbsp;preprocessor: ColumnTransformer<a class=\"sk-estimator-doc-link \" rel=\"noreferrer\" target=\"_blank\" href=\"https://scikit-learn.org/1.5/modules/generated/sklearn.compose.ColumnTransformer.html\">?<span>Documentation for preprocessor: ColumnTransformer</span></a></label><div class=\"sk-toggleable__content \"><pre>ColumnTransformer(transformers=[(&#x27;num&#x27;, SimpleImputer(strategy=&#x27;median&#x27;),\n",
       "                                 [&#x27;Age&#x27;, &#x27;Pclass&#x27;]),\n",
       "                                (&#x27;cat&#x27;,\n",
       "                                 Pipeline(steps=[(&#x27;imputer&#x27;,\n",
       "                                                  SimpleImputer(strategy=&#x27;most_frequent&#x27;)),\n",
       "                                                 (&#x27;onehot&#x27;,\n",
       "                                                  OneHotEncoder(handle_unknown=&#x27;ignore&#x27;))]),\n",
       "                                 [&#x27;Sex&#x27;, &#x27;Family_Size&#x27;])])</pre></div> </div></div><div class=\"sk-parallel\"><div class=\"sk-parallel-item\"><div class=\"sk-item\"><div class=\"sk-label-container\"><div class=\"sk-label  sk-toggleable\"><input class=\"sk-toggleable__control sk-hidden--visually\" id=\"sk-estimator-id-3\" type=\"checkbox\" ><label for=\"sk-estimator-id-3\" class=\"sk-toggleable__label  sk-toggleable__label-arrow \">num</label><div class=\"sk-toggleable__content \"><pre>[&#x27;Age&#x27;, &#x27;Pclass&#x27;]</pre></div> </div></div><div class=\"sk-serial\"><div class=\"sk-item\"><div class=\"sk-estimator  sk-toggleable\"><input class=\"sk-toggleable__control sk-hidden--visually\" id=\"sk-estimator-id-4\" type=\"checkbox\" ><label for=\"sk-estimator-id-4\" class=\"sk-toggleable__label  sk-toggleable__label-arrow \">&nbsp;SimpleImputer<a class=\"sk-estimator-doc-link \" rel=\"noreferrer\" target=\"_blank\" href=\"https://scikit-learn.org/1.5/modules/generated/sklearn.impute.SimpleImputer.html\">?<span>Documentation for SimpleImputer</span></a></label><div class=\"sk-toggleable__content \"><pre>SimpleImputer(strategy=&#x27;median&#x27;)</pre></div> </div></div></div></div></div><div class=\"sk-parallel-item\"><div class=\"sk-item\"><div class=\"sk-label-container\"><div class=\"sk-label  sk-toggleable\"><input class=\"sk-toggleable__control sk-hidden--visually\" id=\"sk-estimator-id-5\" type=\"checkbox\" ><label for=\"sk-estimator-id-5\" class=\"sk-toggleable__label  sk-toggleable__label-arrow \">cat</label><div class=\"sk-toggleable__content \"><pre>[&#x27;Sex&#x27;, &#x27;Family_Size&#x27;]</pre></div> </div></div><div class=\"sk-serial\"><div class=\"sk-item\"><div class=\"sk-serial\"><div class=\"sk-item\"><div class=\"sk-estimator  sk-toggleable\"><input class=\"sk-toggleable__control sk-hidden--visually\" id=\"sk-estimator-id-6\" type=\"checkbox\" ><label for=\"sk-estimator-id-6\" class=\"sk-toggleable__label  sk-toggleable__label-arrow \">&nbsp;SimpleImputer<a class=\"sk-estimator-doc-link \" rel=\"noreferrer\" target=\"_blank\" href=\"https://scikit-learn.org/1.5/modules/generated/sklearn.impute.SimpleImputer.html\">?<span>Documentation for SimpleImputer</span></a></label><div class=\"sk-toggleable__content \"><pre>SimpleImputer(strategy=&#x27;most_frequent&#x27;)</pre></div> </div></div><div class=\"sk-item\"><div class=\"sk-estimator  sk-toggleable\"><input class=\"sk-toggleable__control sk-hidden--visually\" id=\"sk-estimator-id-7\" type=\"checkbox\" ><label for=\"sk-estimator-id-7\" class=\"sk-toggleable__label  sk-toggleable__label-arrow \">&nbsp;OneHotEncoder<a class=\"sk-estimator-doc-link \" rel=\"noreferrer\" target=\"_blank\" href=\"https://scikit-learn.org/1.5/modules/generated/sklearn.preprocessing.OneHotEncoder.html\">?<span>Documentation for OneHotEncoder</span></a></label><div class=\"sk-toggleable__content \"><pre>OneHotEncoder(handle_unknown=&#x27;ignore&#x27;)</pre></div> </div></div></div></div></div></div></div></div></div><div class=\"sk-item\"><div class=\"sk-estimator  sk-toggleable\"><input class=\"sk-toggleable__control sk-hidden--visually\" id=\"sk-estimator-id-8\" type=\"checkbox\" ><label for=\"sk-estimator-id-8\" class=\"sk-toggleable__label  sk-toggleable__label-arrow \">XGBClassifier</label><div class=\"sk-toggleable__content \"><pre>XGBClassifier(base_score=None, booster=None, callbacks=None,\n",
       "              colsample_bylevel=None, colsample_bynode=None,\n",
       "              colsample_bytree=None, device=None, early_stopping_rounds=None,\n",
       "              enable_categorical=False, eval_metric=None, feature_types=None,\n",
       "              gamma=None, grow_policy=None, importance_type=None,\n",
       "              interaction_constraints=None, learning_rate=None, max_bin=None,\n",
       "              max_cat_threshold=None, max_cat_to_onehot=None,\n",
       "              max_delta_step=None, max_depth=None, max_leaves=None,\n",
       "              min_child_weight=None, missing=nan, monotone_constraints=None,\n",
       "              multi_strategy=None, n_estimators=None, n_jobs=None,\n",
       "              num_parallel_tree=None, random_state=None, ...)</pre></div> </div></div></div></div></div></div>"
      ],
      "text/plain": [
       "Pipeline(steps=[('preprocessor',\n",
       "                 ColumnTransformer(transformers=[('num',\n",
       "                                                  SimpleImputer(strategy='median'),\n",
       "                                                  ['Age', 'Pclass']),\n",
       "                                                 ('cat',\n",
       "                                                  Pipeline(steps=[('imputer',\n",
       "                                                                   SimpleImputer(strategy='most_frequent')),\n",
       "                                                                  ('onehot',\n",
       "                                                                   OneHotEncoder(handle_unknown='ignore'))]),\n",
       "                                                  ['Sex', 'Family_Size'])])),\n",
       "                ('model',\n",
       "                 XGBClassifier(base_score=None, booster=None, callbacks=None,\n",
       "                               colsampl...\n",
       "                               feature_types=None, gamma=None, grow_policy=None,\n",
       "                               importance_type=None,\n",
       "                               interaction_constraints=None, learning_rate=None,\n",
       "                               max_bin=None, max_cat_threshold=None,\n",
       "                               max_cat_to_onehot=None, max_delta_step=None,\n",
       "                               max_depth=None, max_leaves=None,\n",
       "                               min_child_weight=None, missing=nan,\n",
       "                               monotone_constraints=None, multi_strategy=None,\n",
       "                               n_estimators=None, n_jobs=None,\n",
       "                               num_parallel_tree=None, random_state=None, ...))])"
      ]
     },
     "execution_count": 109,
     "metadata": {},
     "output_type": "execute_result"
    }
   ],
   "source": [
    "from sklearn import set_config\n",
    "set_config(display='diagram')\n",
    "classifier"
   ]
  },
  {
   "cell_type": "markdown",
   "id": "014156a9",
   "metadata": {
    "papermill": {
     "duration": 0.031984,
     "end_time": "2022-10-17T13:50:25.467443",
     "exception": false,
     "start_time": "2022-10-17T13:50:25.435459",
     "status": "completed"
    },
    "tags": []
   },
   "source": [
    "# 9) Training and Testing Model"
   ]
  },
  {
   "cell_type": "markdown",
   "id": "21ee05bd",
   "metadata": {
    "papermill": {
     "duration": 0.031608,
     "end_time": "2022-10-17T13:50:25.531661",
     "exception": false,
     "start_time": "2022-10-17T13:50:25.500053",
     "status": "completed"
    },
    "tags": []
   },
   "source": [
    "## Grid Search & Cross Validation"
   ]
  },
  {
   "cell_type": "code",
   "execution_count": 110,
   "id": "69c966f8",
   "metadata": {
    "_kg_hide-output": false,
    "execution": {
     "iopub.execute_input": "2022-10-17T13:50:25.598009Z",
     "iopub.status.busy": "2022-10-17T13:50:25.597335Z",
     "iopub.status.idle": "2022-10-17T13:50:30.659919Z",
     "shell.execute_reply": "2022-10-17T13:50:30.658579Z"
    },
    "papermill": {
     "duration": 5.099481,
     "end_time": "2022-10-17T13:50:30.663240",
     "exception": false,
     "start_time": "2022-10-17T13:50:25.563759",
     "status": "completed"
    },
    "tags": []
   },
   "outputs": [
    {
     "name": "stdout",
     "output_type": "stream",
     "text": [
      "Fitting 3 folds for each of 18 candidates, totalling 54 fits\n"
     ]
    }
   ],
   "source": [
    "param_grid = [\n",
    "    {\n",
    "        \"model__reg_lambda\": [50],\n",
    "        \"model__subsample\": [0.7,1],\n",
    "        \"model__learning_rate\": [0.4],\n",
    "        \"model__n_estimators\": [5, 10, 20],\n",
    "        \"model__max_depth\": [3, 4, 5]\n",
    "    }\n",
    "]\n",
    "grid_search = GridSearchCV(classifier, param_grid, cv=3, verbose=1)\n",
    "grid_search.fit(X, y);"
   ]
  },
  {
   "cell_type": "code",
   "execution_count": 111,
   "id": "992dea27",
   "metadata": {
    "execution": {
     "iopub.execute_input": "2022-10-17T13:50:30.739878Z",
     "iopub.status.busy": "2022-10-17T13:50:30.739447Z",
     "iopub.status.idle": "2022-10-17T13:50:30.765432Z",
     "shell.execute_reply": "2022-10-17T13:50:30.763295Z"
    },
    "papermill": {
     "duration": 0.068115,
     "end_time": "2022-10-17T13:50:30.768376",
     "exception": false,
     "start_time": "2022-10-17T13:50:30.700261",
     "status": "completed"
    },
    "tags": []
   },
   "outputs": [
    {
     "name": "stdout",
     "output_type": "stream",
     "text": [
      "Best params:\t{'model__learning_rate': 0.4, 'model__max_depth': 5, 'model__n_estimators': 20, 'model__reg_lambda': 50, 'model__subsample': 0.7}\n",
      "\n",
      "Best score in grid search:\t0.819\n",
      "Score on whole trained data:\t0.835\n"
     ]
    }
   ],
   "source": [
    "print(\"Best params:\",grid_search.best_params_,sep='\\t',end='\\n\\n')\n",
    "print(\"Best score in grid search:\",round(grid_search.best_score_,3),sep='\\t')\n",
    "print(\"Score on whole trained data:\",round(grid_search.score(X, y),3),sep='\\t')"
   ]
  },
  {
   "cell_type": "code",
   "execution_count": 112,
   "id": "ea344251",
   "metadata": {
    "execution": {
     "iopub.execute_input": "2022-10-17T13:50:30.839473Z",
     "iopub.status.busy": "2022-10-17T13:50:30.839072Z",
     "iopub.status.idle": "2022-10-17T13:50:30.871667Z",
     "shell.execute_reply": "2022-10-17T13:50:30.870278Z"
    },
    "papermill": {
     "duration": 0.071405,
     "end_time": "2022-10-17T13:50:30.874358",
     "exception": false,
     "start_time": "2022-10-17T13:50:30.802953",
     "status": "completed"
    },
    "tags": []
   },
   "outputs": [
    {
     "data": {
      "text/html": [
       "<div>\n",
       "<style scoped>\n",
       "    .dataframe tbody tr th:only-of-type {\n",
       "        vertical-align: middle;\n",
       "    }\n",
       "\n",
       "    .dataframe tbody tr th {\n",
       "        vertical-align: top;\n",
       "    }\n",
       "\n",
       "    .dataframe thead th {\n",
       "        text-align: right;\n",
       "    }\n",
       "</style>\n",
       "<table border=\"1\" class=\"dataframe\">\n",
       "  <thead>\n",
       "    <tr style=\"text-align: right;\">\n",
       "      <th></th>\n",
       "      <th>mean_fit_time</th>\n",
       "      <th>std_fit_time</th>\n",
       "      <th>mean_score_time</th>\n",
       "      <th>std_score_time</th>\n",
       "      <th>param_model__learning_rate</th>\n",
       "      <th>param_model__max_depth</th>\n",
       "      <th>param_model__n_estimators</th>\n",
       "      <th>param_model__reg_lambda</th>\n",
       "      <th>param_model__subsample</th>\n",
       "      <th>params</th>\n",
       "      <th>split0_test_score</th>\n",
       "      <th>split1_test_score</th>\n",
       "      <th>split2_test_score</th>\n",
       "      <th>mean_test_score</th>\n",
       "      <th>std_test_score</th>\n",
       "      <th>rank_test_score</th>\n",
       "    </tr>\n",
       "  </thead>\n",
       "  <tbody>\n",
       "    <tr>\n",
       "      <th>16</th>\n",
       "      <td>0.023340</td>\n",
       "      <td>0.000908</td>\n",
       "      <td>0.005651</td>\n",
       "      <td>0.002286</td>\n",
       "      <td>0.4</td>\n",
       "      <td>5</td>\n",
       "      <td>20</td>\n",
       "      <td>50</td>\n",
       "      <td>0.7</td>\n",
       "      <td>{'model__learning_rate': 0.4, 'model__max_dept...</td>\n",
       "      <td>0.808081</td>\n",
       "      <td>0.831650</td>\n",
       "      <td>0.818182</td>\n",
       "      <td>0.819304</td>\n",
       "      <td>0.009655</td>\n",
       "      <td>1</td>\n",
       "    </tr>\n",
       "    <tr>\n",
       "      <th>3</th>\n",
       "      <td>0.016376</td>\n",
       "      <td>0.000474</td>\n",
       "      <td>0.008002</td>\n",
       "      <td>0.000007</td>\n",
       "      <td>0.4</td>\n",
       "      <td>3</td>\n",
       "      <td>10</td>\n",
       "      <td>50</td>\n",
       "      <td>1.0</td>\n",
       "      <td>{'model__learning_rate': 0.4, 'model__max_dept...</td>\n",
       "      <td>0.811448</td>\n",
       "      <td>0.828283</td>\n",
       "      <td>0.811448</td>\n",
       "      <td>0.817059</td>\n",
       "      <td>0.007936</td>\n",
       "      <td>2</td>\n",
       "    </tr>\n",
       "    <tr>\n",
       "      <th>5</th>\n",
       "      <td>0.020178</td>\n",
       "      <td>0.000226</td>\n",
       "      <td>0.005337</td>\n",
       "      <td>0.001887</td>\n",
       "      <td>0.4</td>\n",
       "      <td>3</td>\n",
       "      <td>20</td>\n",
       "      <td>50</td>\n",
       "      <td>1.0</td>\n",
       "      <td>{'model__learning_rate': 0.4, 'model__max_dept...</td>\n",
       "      <td>0.797980</td>\n",
       "      <td>0.828283</td>\n",
       "      <td>0.821549</td>\n",
       "      <td>0.815937</td>\n",
       "      <td>0.012992</td>\n",
       "      <td>3</td>\n",
       "    </tr>\n",
       "    <tr>\n",
       "      <th>11</th>\n",
       "      <td>0.021501</td>\n",
       "      <td>0.001776</td>\n",
       "      <td>0.005342</td>\n",
       "      <td>0.001897</td>\n",
       "      <td>0.4</td>\n",
       "      <td>4</td>\n",
       "      <td>20</td>\n",
       "      <td>50</td>\n",
       "      <td>1.0</td>\n",
       "      <td>{'model__learning_rate': 0.4, 'model__max_dept...</td>\n",
       "      <td>0.791246</td>\n",
       "      <td>0.828283</td>\n",
       "      <td>0.821549</td>\n",
       "      <td>0.813692</td>\n",
       "      <td>0.016109</td>\n",
       "      <td>4</td>\n",
       "    </tr>\n",
       "    <tr>\n",
       "      <th>9</th>\n",
       "      <td>0.017419</td>\n",
       "      <td>0.001813</td>\n",
       "      <td>0.006510</td>\n",
       "      <td>0.001788</td>\n",
       "      <td>0.4</td>\n",
       "      <td>4</td>\n",
       "      <td>10</td>\n",
       "      <td>50</td>\n",
       "      <td>1.0</td>\n",
       "      <td>{'model__learning_rate': 0.4, 'model__max_dept...</td>\n",
       "      <td>0.794613</td>\n",
       "      <td>0.821549</td>\n",
       "      <td>0.821549</td>\n",
       "      <td>0.812570</td>\n",
       "      <td>0.012698</td>\n",
       "      <td>5</td>\n",
       "    </tr>\n",
       "  </tbody>\n",
       "</table>\n",
       "</div>"
      ],
      "text/plain": [
       "    mean_fit_time  std_fit_time  mean_score_time  std_score_time  \\\n",
       "16       0.023340      0.000908         0.005651        0.002286   \n",
       "3        0.016376      0.000474         0.008002        0.000007   \n",
       "5        0.020178      0.000226         0.005337        0.001887   \n",
       "11       0.021501      0.001776         0.005342        0.001897   \n",
       "9        0.017419      0.001813         0.006510        0.001788   \n",
       "\n",
       "    param_model__learning_rate  param_model__max_depth  \\\n",
       "16                         0.4                       5   \n",
       "3                          0.4                       3   \n",
       "5                          0.4                       3   \n",
       "11                         0.4                       4   \n",
       "9                          0.4                       4   \n",
       "\n",
       "    param_model__n_estimators  param_model__reg_lambda  \\\n",
       "16                         20                       50   \n",
       "3                          10                       50   \n",
       "5                          20                       50   \n",
       "11                         20                       50   \n",
       "9                          10                       50   \n",
       "\n",
       "    param_model__subsample                                             params  \\\n",
       "16                     0.7  {'model__learning_rate': 0.4, 'model__max_dept...   \n",
       "3                      1.0  {'model__learning_rate': 0.4, 'model__max_dept...   \n",
       "5                      1.0  {'model__learning_rate': 0.4, 'model__max_dept...   \n",
       "11                     1.0  {'model__learning_rate': 0.4, 'model__max_dept...   \n",
       "9                      1.0  {'model__learning_rate': 0.4, 'model__max_dept...   \n",
       "\n",
       "    split0_test_score  split1_test_score  split2_test_score  mean_test_score  \\\n",
       "16           0.808081           0.831650           0.818182         0.819304   \n",
       "3            0.811448           0.828283           0.811448         0.817059   \n",
       "5            0.797980           0.828283           0.821549         0.815937   \n",
       "11           0.791246           0.828283           0.821549         0.813692   \n",
       "9            0.794613           0.821549           0.821549         0.812570   \n",
       "\n",
       "    std_test_score  rank_test_score  \n",
       "16        0.009655                1  \n",
       "3         0.007936                2  \n",
       "5         0.012992                3  \n",
       "11        0.016109                4  \n",
       "9         0.012698                5  "
      ]
     },
     "metadata": {},
     "output_type": "display_data"
    }
   ],
   "source": [
    "# Top 5 parameter combinations\n",
    "df = pd.DataFrame(grid_search.cv_results_)\n",
    "display(df.sort_values('rank_test_score')[:5])"
   ]
  },
  {
   "cell_type": "markdown",
   "id": "f9d94723",
   "metadata": {
    "papermill": {
     "duration": 0.033351,
     "end_time": "2022-10-17T13:50:30.940612",
     "exception": false,
     "start_time": "2022-10-17T13:50:30.907261",
     "status": "completed"
    },
    "tags": []
   },
   "source": [
    "## Feature Importance"
   ]
  },
  {
   "cell_type": "code",
   "execution_count": 113,
   "id": "3ed41ec1",
   "metadata": {
    "execution": {
     "iopub.execute_input": "2022-10-17T13:50:31.009955Z",
     "iopub.status.busy": "2022-10-17T13:50:31.009462Z",
     "iopub.status.idle": "2022-10-17T13:50:31.019023Z",
     "shell.execute_reply": "2022-10-17T13:50:31.017561Z"
    },
    "papermill": {
     "duration": 0.047526,
     "end_time": "2022-10-17T13:50:31.021541",
     "exception": false,
     "start_time": "2022-10-17T13:50:30.974015",
     "status": "completed"
    },
    "tags": []
   },
   "outputs": [
    {
     "data": {
      "text/plain": [
       "array([0.04192288, 0.12967072, 0.7129874 , 0.        , 0.0171306 ,\n",
       "       0.05575479, 0.04253366], dtype=float32)"
      ]
     },
     "execution_count": 113,
     "metadata": {},
     "output_type": "execute_result"
    }
   ],
   "source": [
    "Feature_Imp = grid_search.best_estimator_.named_steps[\"model\"].feature_importances_\n",
    "Feature_Imp"
   ]
  },
  {
   "cell_type": "code",
   "execution_count": 114,
   "id": "0da97c38",
   "metadata": {
    "execution": {
     "iopub.execute_input": "2022-10-17T13:50:31.089477Z",
     "iopub.status.busy": "2022-10-17T13:50:31.088960Z",
     "iopub.status.idle": "2022-10-17T13:50:31.112118Z",
     "shell.execute_reply": "2022-10-17T13:50:31.110933Z"
    },
    "papermill": {
     "duration": 0.059441,
     "end_time": "2022-10-17T13:50:31.114774",
     "exception": false,
     "start_time": "2022-10-17T13:50:31.055333",
     "status": "completed"
    },
    "tags": []
   },
   "outputs": [],
   "source": [
    "# Predicting y for trained data\n",
    "y_pred = grid_search.predict(X)\n",
    "\n",
    "# Converting y_pred from Array to DataFrame with appropriate index and column name\n",
    "y_pred = pd.DataFrame(y_pred, index=X.index, columns=['Survived_Predicted'])"
   ]
  },
  {
   "cell_type": "code",
   "execution_count": 115,
   "id": "63f5adf9",
   "metadata": {
    "execution": {
     "iopub.execute_input": "2022-10-17T13:50:31.184685Z",
     "iopub.status.busy": "2022-10-17T13:50:31.183469Z",
     "iopub.status.idle": "2022-10-17T13:50:31.201021Z",
     "shell.execute_reply": "2022-10-17T13:50:31.199781Z"
    },
    "papermill": {
     "duration": 0.055953,
     "end_time": "2022-10-17T13:50:31.203778",
     "exception": false,
     "start_time": "2022-10-17T13:50:31.147825",
     "status": "completed"
    },
    "tags": []
   },
   "outputs": [
    {
     "data": {
      "text/html": [
       "<div>\n",
       "<style scoped>\n",
       "    .dataframe tbody tr th:only-of-type {\n",
       "        vertical-align: middle;\n",
       "    }\n",
       "\n",
       "    .dataframe tbody tr th {\n",
       "        vertical-align: top;\n",
       "    }\n",
       "\n",
       "    .dataframe thead th {\n",
       "        text-align: right;\n",
       "    }\n",
       "</style>\n",
       "<table border=\"1\" class=\"dataframe\">\n",
       "  <thead>\n",
       "    <tr style=\"text-align: right;\">\n",
       "      <th></th>\n",
       "      <th>Age</th>\n",
       "      <th>Pclass</th>\n",
       "      <th>Sex</th>\n",
       "      <th>Family_Size</th>\n",
       "      <th>Survived</th>\n",
       "      <th>Survived_Predicted</th>\n",
       "    </tr>\n",
       "    <tr>\n",
       "      <th>PassengerId</th>\n",
       "      <th></th>\n",
       "      <th></th>\n",
       "      <th></th>\n",
       "      <th></th>\n",
       "      <th></th>\n",
       "      <th></th>\n",
       "    </tr>\n",
       "  </thead>\n",
       "  <tbody>\n",
       "    <tr>\n",
       "      <th>1</th>\n",
       "      <td>22.0</td>\n",
       "      <td>3</td>\n",
       "      <td>male</td>\n",
       "      <td>medium</td>\n",
       "      <td>0</td>\n",
       "      <td>0</td>\n",
       "    </tr>\n",
       "    <tr>\n",
       "      <th>2</th>\n",
       "      <td>38.0</td>\n",
       "      <td>1</td>\n",
       "      <td>female</td>\n",
       "      <td>medium</td>\n",
       "      <td>1</td>\n",
       "      <td>1</td>\n",
       "    </tr>\n",
       "  </tbody>\n",
       "</table>\n",
       "</div>"
      ],
      "text/plain": [
       "              Age  Pclass     Sex Family_Size  Survived  Survived_Predicted\n",
       "PassengerId                                                                \n",
       "1            22.0       3    male      medium         0                   0\n",
       "2            38.0       1  female      medium         1                   1"
      ]
     },
     "execution_count": 115,
     "metadata": {},
     "output_type": "execute_result"
    }
   ],
   "source": [
    "# Checking trainig data without preprocessing (features, actual target and predicted target)\n",
    "Xyy = pd.concat([X,y,y_pred],axis=1)\n",
    "Xyy.head(2)"
   ]
  },
  {
   "cell_type": "code",
   "execution_count": 116,
   "id": "fba43cee",
   "metadata": {
    "execution": {
     "iopub.execute_input": "2022-10-17T13:50:31.274419Z",
     "iopub.status.busy": "2022-10-17T13:50:31.273997Z",
     "iopub.status.idle": "2022-10-17T13:50:31.300183Z",
     "shell.execute_reply": "2022-10-17T13:50:31.298959Z"
    },
    "papermill": {
     "duration": 0.064543,
     "end_time": "2022-10-17T13:50:31.302985",
     "exception": false,
     "start_time": "2022-10-17T13:50:31.238442",
     "status": "completed"
    },
    "tags": []
   },
   "outputs": [
    {
     "data": {
      "text/html": [
       "<div>\n",
       "<style scoped>\n",
       "    .dataframe tbody tr th:only-of-type {\n",
       "        vertical-align: middle;\n",
       "    }\n",
       "\n",
       "    .dataframe tbody tr th {\n",
       "        vertical-align: top;\n",
       "    }\n",
       "\n",
       "    .dataframe thead th {\n",
       "        text-align: right;\n",
       "    }\n",
       "</style>\n",
       "<table border=\"1\" class=\"dataframe\">\n",
       "  <thead>\n",
       "    <tr style=\"text-align: right;\">\n",
       "      <th></th>\n",
       "      <th>Age</th>\n",
       "      <th>Pclass</th>\n",
       "      <th>Sex_female</th>\n",
       "      <th>Sex_male</th>\n",
       "      <th>Family_alone</th>\n",
       "      <th>Family_large</th>\n",
       "      <th>Family_medium</th>\n",
       "    </tr>\n",
       "  </thead>\n",
       "  <tbody>\n",
       "    <tr>\n",
       "      <th>0</th>\n",
       "      <td>22.0</td>\n",
       "      <td>3.0</td>\n",
       "      <td>0.0</td>\n",
       "      <td>1.0</td>\n",
       "      <td>0.0</td>\n",
       "      <td>0.0</td>\n",
       "      <td>1.0</td>\n",
       "    </tr>\n",
       "    <tr>\n",
       "      <th>1</th>\n",
       "      <td>38.0</td>\n",
       "      <td>1.0</td>\n",
       "      <td>1.0</td>\n",
       "      <td>0.0</td>\n",
       "      <td>0.0</td>\n",
       "      <td>0.0</td>\n",
       "      <td>1.0</td>\n",
       "    </tr>\n",
       "  </tbody>\n",
       "</table>\n",
       "</div>"
      ],
      "text/plain": [
       "    Age  Pclass  Sex_female  Sex_male  Family_alone  Family_large  \\\n",
       "0  22.0     3.0         0.0       1.0           0.0           0.0   \n",
       "1  38.0     1.0         1.0       0.0           0.0           0.0   \n",
       "\n",
       "   Family_medium  \n",
       "0            1.0  \n",
       "1            1.0  "
      ]
     },
     "execution_count": 116,
     "metadata": {},
     "output_type": "execute_result"
    }
   ],
   "source": [
    "# Preprocessed (Imputed and OneHotCoded) Training and Test data using Pipeline\n",
    "column_values = ['Age','Pclass','Sex_female','Sex_male','Family_alone','Family_large','Family_medium']\n",
    "X_processed = pd.DataFrame(grid_search.best_estimator_.named_steps[\"preprocessor\"].transform(X), columns=column_values)\n",
    "X_processed.head(2)"
   ]
  },
  {
   "cell_type": "code",
   "execution_count": 117,
   "id": "74b68950",
   "metadata": {
    "execution": {
     "iopub.execute_input": "2022-10-17T13:50:31.373727Z",
     "iopub.status.busy": "2022-10-17T13:50:31.373333Z",
     "iopub.status.idle": "2022-10-17T13:50:31.618984Z",
     "shell.execute_reply": "2022-10-17T13:50:31.617206Z"
    },
    "papermill": {
     "duration": 0.285308,
     "end_time": "2022-10-17T13:50:31.621742",
     "exception": false,
     "start_time": "2022-10-17T13:50:31.336434",
     "status": "completed"
    },
    "tags": []
   },
   "outputs": [
    {
     "data": {
      "image/png": "[encoded data removed]",
      "text/plain": [
       "<Figure size 640x480 with 1 Axes>"
      ]
     },
     "metadata": {},
     "output_type": "display_data"
    }
   ],
   "source": [
    "ax =pd.Series(Feature_Imp,X_processed.columns).sort_values(ascending=True).plot.barh(width=0.8)\n",
    "ax.set_title('Feature Importance in XgBoost')\n",
    "plt.show()"
   ]
  },
  {
   "cell_type": "markdown",
   "id": "7c8861a7",
   "metadata": {
    "papermill": {
     "duration": 0.03531,
     "end_time": "2022-10-17T13:50:31.693948",
     "exception": false,
     "start_time": "2022-10-17T13:50:31.658638",
     "status": "completed"
    },
    "tags": []
   },
   "source": [
    "**Note:**\n",
    "* From above plot, we can see that *One Hot Encoded* column 'Sex_male' has zero importance in trained XGBoost model. This is because that same information is conveyed in 'Sex_feamle'. (If the passenger is not female, then the passenger is male.)"
   ]
  },
  {
   "cell_type": "markdown",
   "id": "4393408e",
   "metadata": {
    "papermill": {
     "duration": 0.035534,
     "end_time": "2022-10-17T13:50:31.763663",
     "exception": false,
     "start_time": "2022-10-17T13:50:31.728129",
     "status": "completed"
    },
    "tags": []
   },
   "source": [
    "## Confusion Matrix (for training data)"
   ]
  },
  {
   "cell_type": "code",
   "execution_count": 118,
   "id": "d4aed700",
   "metadata": {
    "execution": {
     "iopub.execute_input": "2022-10-17T13:50:31.834474Z",
     "iopub.status.busy": "2022-10-17T13:50:31.833623Z",
     "iopub.status.idle": "2022-10-17T13:50:31.976854Z",
     "shell.execute_reply": "2022-10-17T13:50:31.975329Z"
    },
    "papermill": {
     "duration": 0.182733,
     "end_time": "2022-10-17T13:50:31.980437",
     "exception": false,
     "start_time": "2022-10-17T13:50:31.797704",
     "status": "completed"
    },
    "tags": []
   },
   "outputs": [],
   "source": [
    "# Credit: 'https://medium.com/@dtuk81/confusion-matrix-visualization-fc31e3f30fea'\n",
    "cm = confusion_matrix(y, y_pred)\n",
    "\n",
    "group_names = ['True Neg','False Pos','False Neg','True Pos']\n",
    "group_counts = ['{0:0.0f}'.format(value) for value in cm.flatten()]\n",
    "group_percentages = ['{0:.2%}'.format(value) for value in cm.flatten()/np.sum(cm)]\n",
    "\n",
    "labels = [f'{v1}\\n{v2}\\n{v3}' for v1, v2, v3 in zip(group_names,group_counts,group_percentages)]\n",
    "labels = np.asarray(labels).reshape(2,2)\n",
    "\n",
    "ax = sns.heatmap(cm, annot=labels, fmt='', cmap='Blues', cbar=False, xticklabels=['0','1'], yticklabels=['0','1'])\n",
    "ax.set(ylabel=\"Actual y\", xlabel=\"Predicted y\");"
   ]
  },
  {
   "cell_type": "markdown",
   "id": "c960e5c2",
   "metadata": {
    "papermill": {
     "duration": 0.035675,
     "end_time": "2022-10-17T13:50:32.071708",
     "exception": false,
     "start_time": "2022-10-17T13:50:32.036033",
     "status": "completed"
    },
    "tags": []
   },
   "source": [
    "## Classification Report (for training data)"
   ]
  },
  {
   "cell_type": "code",
   "execution_count": 119,
   "id": "ac5b2d6a",
   "metadata": {
    "execution": {
     "iopub.execute_input": "2022-10-17T13:50:32.145964Z",
     "iopub.status.busy": "2022-10-17T13:50:32.145499Z",
     "iopub.status.idle": "2022-10-17T13:50:32.158020Z",
     "shell.execute_reply": "2022-10-17T13:50:32.156777Z"
    },
    "papermill": {
     "duration": 0.053668,
     "end_time": "2022-10-17T13:50:32.161147",
     "exception": false,
     "start_time": "2022-10-17T13:50:32.107479",
     "status": "completed"
    },
    "tags": []
   },
   "outputs": [
    {
     "name": "stdout",
     "output_type": "stream",
     "text": [
      "              precision    recall  f1-score   support\n",
      "\n",
      "           0       0.84      0.90      0.87       549\n",
      "           1       0.82      0.73      0.77       342\n",
      "\n",
      "    accuracy                           0.84       891\n",
      "   macro avg       0.83      0.82      0.82       891\n",
      "weighted avg       0.83      0.84      0.83       891\n",
      "\n"
     ]
    }
   ],
   "source": [
    "print(classification_report(y, y_pred))"
   ]
  },
  {
   "cell_type": "code",
   "execution_count": 122,
   "id": "bd33ee0c",
   "metadata": {
    "execution": {
     "iopub.execute_input": "2022-10-17T13:50:32.233775Z",
     "iopub.status.busy": "2022-10-17T13:50:32.233394Z",
     "iopub.status.idle": "2022-10-17T13:50:32.246526Z",
     "shell.execute_reply": "2022-10-17T13:50:32.245355Z"
    },
    "papermill": {
     "duration": 0.052572,
     "end_time": "2022-10-17T13:50:32.249944",
     "exception": false,
     "start_time": "2022-10-17T13:50:32.197372",
     "status": "completed"
    },
    "tags": []
   },
   "outputs": [
    {
     "name": "stdout",
     "output_type": "stream",
     "text": [
      "Accuracy Score : 0.835016835016835\n",
      "Precision Score : 0.82\n",
      "Recall Score : 0.731\n",
      "F1 Score : 0.773\n"
     ]
    }
   ],
   "source": [
    "# Model Evaluation metrics \n",
    "print('Accuracy Score : ' + str(accuracy_score(y,y_pred)))\n",
    "print('Precision Score : ' + str(precision_score(y,y_pred).round(3)))\n",
    "print('Recall Score : ' + str(recall_score(y,y_pred).round(3)))\n",
    "print('F1 Score : ' + str(f1_score(y,y_pred).round(3)))"
   ]
  },
  {
   "cell_type": "markdown",
   "id": "3947bf6f",
   "metadata": {
    "papermill": {
     "duration": 0.034518,
     "end_time": "2022-10-17T13:50:32.318995",
     "exception": false,
     "start_time": "2022-10-17T13:50:32.284477",
     "status": "completed"
    },
    "tags": []
   },
   "source": [
    "# 10) Predicting y"
   ]
  },
  {
   "cell_type": "code",
   "execution_count": 123,
   "id": "db8047f8",
   "metadata": {
    "execution": {
     "iopub.execute_input": "2022-10-17T13:50:32.392170Z",
     "iopub.status.busy": "2022-10-17T13:50:32.391188Z",
     "iopub.status.idle": "2022-10-17T13:50:32.417494Z",
     "shell.execute_reply": "2022-10-17T13:50:32.416191Z"
    },
    "papermill": {
     "duration": 0.065714,
     "end_time": "2022-10-17T13:50:32.420417",
     "exception": false,
     "start_time": "2022-10-17T13:50:32.354703",
     "status": "completed"
    },
    "tags": []
   },
   "outputs": [],
   "source": [
    "# Generate test predictions\n",
    "y_test_pred = grid_search.predict(X_test)\n",
    "\n",
    "# Converting y_pred from Array to DataFrame with appropriate index and column name\n",
    "y_test_pred = pd.DataFrame(y_test_pred, index=X_test.index, columns=['Survived_Predicted'])"
   ]
  },
  {
   "cell_type": "code",
   "execution_count": 124,
   "id": "1c5233bb",
   "metadata": {
    "execution": {
     "iopub.execute_input": "2022-10-17T13:50:32.491258Z",
     "iopub.status.busy": "2022-10-17T13:50:32.490458Z",
     "iopub.status.idle": "2022-10-17T13:50:32.504592Z",
     "shell.execute_reply": "2022-10-17T13:50:32.503276Z"
    },
    "papermill": {
     "duration": 0.052501,
     "end_time": "2022-10-17T13:50:32.507119",
     "exception": false,
     "start_time": "2022-10-17T13:50:32.454618",
     "status": "completed"
    },
    "tags": []
   },
   "outputs": [
    {
     "data": {
      "text/html": [
       "<div>\n",
       "<style scoped>\n",
       "    .dataframe tbody tr th:only-of-type {\n",
       "        vertical-align: middle;\n",
       "    }\n",
       "\n",
       "    .dataframe tbody tr th {\n",
       "        vertical-align: top;\n",
       "    }\n",
       "\n",
       "    .dataframe thead th {\n",
       "        text-align: right;\n",
       "    }\n",
       "</style>\n",
       "<table border=\"1\" class=\"dataframe\">\n",
       "  <thead>\n",
       "    <tr style=\"text-align: right;\">\n",
       "      <th></th>\n",
       "      <th>Age</th>\n",
       "      <th>Pclass</th>\n",
       "      <th>Sex</th>\n",
       "      <th>Family_Size</th>\n",
       "      <th>Survived_Predicted</th>\n",
       "    </tr>\n",
       "    <tr>\n",
       "      <th>PassengerId</th>\n",
       "      <th></th>\n",
       "      <th></th>\n",
       "      <th></th>\n",
       "      <th></th>\n",
       "      <th></th>\n",
       "    </tr>\n",
       "  </thead>\n",
       "  <tbody>\n",
       "    <tr>\n",
       "      <th>892</th>\n",
       "      <td>34.5</td>\n",
       "      <td>3</td>\n",
       "      <td>male</td>\n",
       "      <td>alone</td>\n",
       "      <td>0</td>\n",
       "    </tr>\n",
       "    <tr>\n",
       "      <th>893</th>\n",
       "      <td>47.0</td>\n",
       "      <td>3</td>\n",
       "      <td>female</td>\n",
       "      <td>medium</td>\n",
       "      <td>0</td>\n",
       "    </tr>\n",
       "  </tbody>\n",
       "</table>\n",
       "</div>"
      ],
      "text/plain": [
       "              Age  Pclass     Sex Family_Size  Survived_Predicted\n",
       "PassengerId                                                      \n",
       "892          34.5       3    male       alone                   0\n",
       "893          47.0       3  female      medium                   0"
      ]
     },
     "execution_count": 124,
     "metadata": {},
     "output_type": "execute_result"
    }
   ],
   "source": [
    "# Checking testing data with features and predicted target\n",
    "Xy_test = pd.concat([X_test,y_test_pred],axis=1)\n",
    "Xy_test.head(2)"
   ]
  },
  {
   "cell_type": "code",
   "execution_count": 125,
   "id": "7b741e8a",
   "metadata": {
    "execution": {
     "iopub.execute_input": "2022-10-17T13:50:32.580567Z",
     "iopub.status.busy": "2022-10-17T13:50:32.579742Z",
     "iopub.status.idle": "2022-10-17T13:50:32.589346Z",
     "shell.execute_reply": "2022-10-17T13:50:32.588387Z"
    },
    "papermill": {
     "duration": 0.049374,
     "end_time": "2022-10-17T13:50:32.591900",
     "exception": false,
     "start_time": "2022-10-17T13:50:32.542526",
     "status": "completed"
    },
    "tags": []
   },
   "outputs": [],
   "source": [
    "# Save output to CSV file\n",
    "output = pd.DataFrame({'PassengerId': X_test.index,\n",
    "                       'Survived': y_test_pred.Survived_Predicted})\n",
    "output.to_csv('submission.csv', index=False)"
   ]
  },
  {
   "cell_type": "code",
   "execution_count": 126,
   "id": "f435e08c",
   "metadata": {
    "execution": {
     "iopub.execute_input": "2022-10-17T13:50:32.665322Z",
     "iopub.status.busy": "2022-10-17T13:50:32.664888Z",
     "iopub.status.idle": "2022-10-17T13:50:32.676791Z",
     "shell.execute_reply": "2022-10-17T13:50:32.675889Z"
    },
    "papermill": {
     "duration": 0.05263,
     "end_time": "2022-10-17T13:50:32.679156",
     "exception": false,
     "start_time": "2022-10-17T13:50:32.626526",
     "status": "completed"
    },
    "tags": []
   },
   "outputs": [
    {
     "data": {
      "text/html": [
       "<div>\n",
       "<style scoped>\n",
       "    .dataframe tbody tr th:only-of-type {\n",
       "        vertical-align: middle;\n",
       "    }\n",
       "\n",
       "    .dataframe tbody tr th {\n",
       "        vertical-align: top;\n",
       "    }\n",
       "\n",
       "    .dataframe thead th {\n",
       "        text-align: right;\n",
       "    }\n",
       "</style>\n",
       "<table border=\"1\" class=\"dataframe\">\n",
       "  <thead>\n",
       "    <tr style=\"text-align: right;\">\n",
       "      <th></th>\n",
       "      <th>PassengerId</th>\n",
       "      <th>Survived</th>\n",
       "    </tr>\n",
       "  </thead>\n",
       "  <tbody>\n",
       "    <tr>\n",
       "      <th>0</th>\n",
       "      <td>892</td>\n",
       "      <td>0</td>\n",
       "    </tr>\n",
       "    <tr>\n",
       "      <th>1</th>\n",
       "      <td>893</td>\n",
       "      <td>0</td>\n",
       "    </tr>\n",
       "  </tbody>\n",
       "</table>\n",
       "</div>"
      ],
      "text/plain": [
       "   PassengerId  Survived\n",
       "0          892         0\n",
       "1          893         0"
      ]
     },
     "execution_count": 126,
     "metadata": {},
     "output_type": "execute_result"
    }
   ],
   "source": [
    "# Submit results\n",
    "submission_data = pd.read_csv(\"submission.csv\")\n",
    "submission_data.head(2)"
   ]
  }
 ],
 "metadata": {
  "kernelspec": {
   "display_name": "Python (supervised)",
   "language": "python",
   "name": "supervised"
  },
  "language_info": {
   "codemirror_mode": {
    "name": "ipython",
    "version": 3
   },
   "file_extension": ".py",
   "mimetype": "text/x-python",
   "name": "python",
   "nbconvert_exporter": "python",
   "pygments_lexer": "ipython3",
   "version": "3.12.4"
  },
  "papermill": {
   "default_parameters": {},
   "duration": 29.111728,
   "end_time": "2022-10-17T13:50:33.537909",
   "environment_variables": {},
   "exception": null,
   "input_path": "__notebook__.ipynb",
   "output_path": "__notebook__.ipynb",
   "parameters": {},
   "start_time": "2022-10-17T13:50:04.426181",
   "version": "2.3.4"
  }
 },
 "nbformat": 4,
 "nbformat_minor": 5
}
